{
 "cells": [
  {
   "cell_type": "code",
   "execution_count": 9,
   "metadata": {
    "ExecuteTime": {
     "end_time": "2020-01-15T04:37:52.099291Z",
     "start_time": "2020-01-15T04:37:52.094106Z"
    }
   },
   "outputs": [],
   "source": [
    "import pandas as pd\n",
    "import numpy as np\n",
    "\n",
    "import matplotlib.pyplot as plt\n",
    "import pickle"
   ]
  },
  {
   "cell_type": "code",
   "execution_count": 10,
   "metadata": {
    "ExecuteTime": {
     "end_time": "2020-01-15T04:38:04.285185Z",
     "start_time": "2020-01-15T04:37:52.784471Z"
    }
   },
   "outputs": [],
   "source": [
    "submission = pd.read_csv('../output/submission_my_leak_validation.csv')"
   ]
  },
  {
   "cell_type": "code",
   "execution_count": 11,
   "metadata": {
    "ExecuteTime": {
     "end_time": "2020-01-15T04:38:49.433244Z",
     "start_time": "2020-01-15T04:38:04.287683Z"
    }
   },
   "outputs": [],
   "source": [
    "# leaked_df = pd.read_csv('../input/leaked_data_all.csv', parse_dates=['timestamp'])\n",
    "leaked_df = pd.read_feather('../input/leak_data.feather').rename(columns={'meter_reading': 'leaked_meter_reading'})\n",
    "leaked_df = leaked_df[['building_id','meter','timestamp', 'leaked_meter_reading']]\n",
    "\n",
    "\n",
    "train = pd.read_csv('../input/train.csv', parse_dates=['timestamp'])\n",
    "test = pd.read_csv('../input/test.csv', parse_dates=['timestamp'])\n",
    "    "
   ]
  },
  {
   "cell_type": "code",
   "execution_count": 12,
   "metadata": {
    "ExecuteTime": {
     "end_time": "2020-01-15T04:38:49.453168Z",
     "start_time": "2020-01-15T04:38:49.436475Z"
    }
   },
   "outputs": [],
   "source": [
    "building_meta = pd.read_csv('../input/building_metadata.csv')"
   ]
  },
  {
   "cell_type": "code",
   "execution_count": 13,
   "metadata": {
    "ExecuteTime": {
     "end_time": "2020-01-15T04:39:09.618788Z",
     "start_time": "2020-01-15T04:38:49.456288Z"
    }
   },
   "outputs": [],
   "source": [
    "test['meter_reading'] = submission['meter_reading']\n",
    "test = test.merge(leaked_df, on=['building_id', 'meter', 'timestamp'], how='left')"
   ]
  },
  {
   "cell_type": "code",
   "execution_count": 14,
   "metadata": {
    "ExecuteTime": {
     "end_time": "2020-01-15T04:39:21.440137Z",
     "start_time": "2020-01-15T04:39:09.622722Z"
    }
   },
   "outputs": [],
   "source": [
    "# 張替え\n",
    "test['submission'] = test['leaked_meter_reading']\n",
    "null_idx = test[test['leaked_meter_reading'].isnull()].index\n",
    "test.loc[null_idx, 'submission'] = test.loc[null_idx, 'meter_reading']"
   ]
  },
  {
   "cell_type": "code",
   "execution_count": 15,
   "metadata": {
    "ExecuteTime": {
     "end_time": "2020-01-15T04:41:08.169418Z",
     "start_time": "2020-01-15T04:39:21.441913Z"
    }
   },
   "outputs": [],
   "source": [
    "submission['meter_reading'] = test['submission'].values\n",
    "submission.to_csv('../output/submission_leaked.csv', index=False)"
   ]
  },
  {
   "cell_type": "code",
   "execution_count": 16,
   "metadata": {
    "ExecuteTime": {
     "end_time": "2020-01-15T04:41:08.190377Z",
     "start_time": "2020-01-15T04:41:08.171451Z"
    },
    "scrolled": true
   },
   "outputs": [
    {
     "data": {
      "text/html": [
       "<div>\n",
       "<style scoped>\n",
       "    .dataframe tbody tr th:only-of-type {\n",
       "        vertical-align: middle;\n",
       "    }\n",
       "\n",
       "    .dataframe tbody tr th {\n",
       "        vertical-align: top;\n",
       "    }\n",
       "\n",
       "    .dataframe thead th {\n",
       "        text-align: right;\n",
       "    }\n",
       "</style>\n",
       "<table border=\"1\" class=\"dataframe\">\n",
       "  <thead>\n",
       "    <tr style=\"text-align: right;\">\n",
       "      <th></th>\n",
       "      <th>row_id</th>\n",
       "      <th>meter_reading</th>\n",
       "    </tr>\n",
       "  </thead>\n",
       "  <tbody>\n",
       "    <tr>\n",
       "      <th>0</th>\n",
       "      <td>0</td>\n",
       "      <td>173.370293</td>\n",
       "    </tr>\n",
       "    <tr>\n",
       "      <th>1</th>\n",
       "      <td>1</td>\n",
       "      <td>53.512720</td>\n",
       "    </tr>\n",
       "    <tr>\n",
       "      <th>2</th>\n",
       "      <td>2</td>\n",
       "      <td>6.143042</td>\n",
       "    </tr>\n",
       "    <tr>\n",
       "      <th>3</th>\n",
       "      <td>3</td>\n",
       "      <td>101.701470</td>\n",
       "    </tr>\n",
       "    <tr>\n",
       "      <th>4</th>\n",
       "      <td>4</td>\n",
       "      <td>1141.240666</td>\n",
       "    </tr>\n",
       "  </tbody>\n",
       "</table>\n",
       "</div>"
      ],
      "text/plain": [
       "   row_id  meter_reading\n",
       "0       0     173.370293\n",
       "1       1      53.512720\n",
       "2       2       6.143042\n",
       "3       3     101.701470\n",
       "4       4    1141.240666"
      ]
     },
     "execution_count": 16,
     "metadata": {},
     "output_type": "execute_result"
    }
   ],
   "source": [
    "submission.head()"
   ]
  },
  {
   "cell_type": "code",
   "execution_count": null,
   "metadata": {},
   "outputs": [],
   "source": []
  }
 ],
 "metadata": {
  "kernelspec": {
   "display_name": "Python 3",
   "language": "python",
   "name": "python3"
  },
  "language_info": {
   "codemirror_mode": {
    "name": "ipython",
    "version": 3
   },
   "file_extension": ".py",
   "mimetype": "text/x-python",
   "name": "python",
   "nbconvert_exporter": "python",
   "pygments_lexer": "ipython3",
   "version": "3.6.8"
  }
 },
 "nbformat": 4,
 "nbformat_minor": 2
}
