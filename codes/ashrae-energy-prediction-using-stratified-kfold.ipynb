{
 "cells": [
  {
   "cell_type": "code",
   "execution_count": 15,
   "metadata": {
    "ExecuteTime": {
     "end_time": "2020-01-15T00:38:56.110096Z",
     "start_time": "2020-01-15T00:38:45.580533Z"
    },
    "_kg_hide-output": true
   },
   "outputs": [
    {
     "name": "stdout",
     "output_type": "stream",
     "text": [
      "Requirement already satisfied: meteocalc in /mnt/dirac/sano/env36/lib/python3.6/site-packages (1.1.0)\n",
      "../input/building_metadata.csv\n",
      "../input/sample_submission.csv\n",
      "../input/test.csv\n",
      "../input/train.csv\n",
      "../input/weather_test.csv\n",
      "../input/weather_train.csv\n",
      "../input/leak_data.feather\n",
      "../input/leak_data_drop_bad_rows.pkl\n",
      "../input/leak.feather\n"
     ]
    }
   ],
   "source": [
    "!pip install meteocalc\n",
    "import pandas as pd\n",
    "import numpy as np\n",
    "import matplotlib.pyplot as plt\n",
    "import lightgbm as lgb\n",
    "from sklearn.preprocessing import LabelEncoder\n",
    "from sklearn.model_selection import KFold, StratifiedKFold, GroupKFold\n",
    "from tqdm import tqdm\n",
    "import datetime\n",
    "from meteocalc import feels_like, Temp\n",
    "from sklearn import metrics\n",
    "import gc\n",
    "import os\n",
    "for dirname, _, filenames in os.walk('../input'):\n",
    "    for filename in filenames:\n",
    "        print(os.path.join(dirname, filename))"
   ]
  },
  {
   "cell_type": "markdown",
   "metadata": {},
   "source": [
    "# Load Data"
   ]
  },
  {
   "cell_type": "code",
   "execution_count": 2,
   "metadata": {
    "ExecuteTime": {
     "end_time": "2020-01-14T12:31:59.243021Z",
     "start_time": "2020-01-14T12:31:59.224949Z"
    }
   },
   "outputs": [],
   "source": [
    "# Original code from https://www.kaggle.com/gemartin/load-data-reduce-memory-usage by @gemartin\n",
    "\n",
    "from pandas.api.types import is_datetime64_any_dtype as is_datetime\n",
    "from pandas.api.types import is_categorical_dtype\n",
    "\n",
    "def reduce_mem_usage(df, use_float16=False):\n",
    "    \"\"\"\n",
    "    Iterate through all the columns of a dataframe and modify the data type to reduce memory usage.        \n",
    "    \"\"\"\n",
    "    \n",
    "    start_mem = df.memory_usage().sum() / 1024**2\n",
    "    print(\"Memory usage of dataframe is {:.2f} MB\".format(start_mem))\n",
    "    \n",
    "    for col in df.columns:\n",
    "        if is_datetime(df[col]) or is_categorical_dtype(df[col]):\n",
    "            continue\n",
    "        col_type = df[col].dtype\n",
    "        \n",
    "        if col_type != object:\n",
    "            c_min = df[col].min()\n",
    "            c_max = df[col].max()\n",
    "            if str(col_type)[:3] == \"int\":\n",
    "                if c_min > np.iinfo(np.int8).min and c_max < np.iinfo(np.int8).max:\n",
    "                    df[col] = df[col].astype(np.int8)\n",
    "                elif c_min > np.iinfo(np.int16).min and c_max < np.iinfo(np.int16).max:\n",
    "                    df[col] = df[col].astype(np.int16)\n",
    "                elif c_min > np.iinfo(np.int32).min and c_max < np.iinfo(np.int32).max:\n",
    "                    df[col] = df[col].astype(np.int32)\n",
    "                elif c_min > np.iinfo(np.int64).min and c_max < np.iinfo(np.int64).max:\n",
    "                    df[col] = df[col].astype(np.int64)  \n",
    "            else:\n",
    "                if use_float16 and c_min > np.finfo(np.float16).min and c_max < np.finfo(np.float16).max:\n",
    "                    df[col] = df[col].astype(np.float16)\n",
    "                elif c_min > np.finfo(np.float32).min and c_max < np.finfo(np.float32).max:\n",
    "                    df[col] = df[col].astype(np.float32)\n",
    "                else:\n",
    "                    df[col] = df[col].astype(np.float64)\n",
    "        else:\n",
    "            df[col] = df[col].astype(\"category\")\n",
    "\n",
    "    end_mem = df.memory_usage().sum() / 1024**2\n",
    "    print(\"Memory usage after optimization is: {:.2f} MB\".format(end_mem))\n",
    "    print(\"Decreased by {:.1f}%\".format(100 * (start_mem - end_mem) / start_mem))\n",
    "    \n",
    "    return df"
   ]
  },
  {
   "cell_type": "code",
   "execution_count": 3,
   "metadata": {
    "ExecuteTime": {
     "end_time": "2020-01-14T12:32:07.135265Z",
     "start_time": "2020-01-14T12:31:59.246005Z"
    }
   },
   "outputs": [],
   "source": [
    "train_df = pd.read_csv('../input/train.csv')\n",
    "building_df = pd.read_csv('../input/building_metadata.csv')\n",
    "weather_df = pd.read_csv('../input/weather_train.csv')"
   ]
  },
  {
   "cell_type": "markdown",
   "metadata": {},
   "source": [
    "Referring to the following discussions. We have filtered the data in the next step\n",
    "\n",
    "* Ref1. https://www.kaggle.com/c/ashrae-energy-prediction/discussion/114830#latest-680086\n",
    "* Ref2. https://www.kaggle.com/c/ashrae-energy-prediction/discussion/113054#656588 "
   ]
  },
  {
   "cell_type": "code",
   "execution_count": 4,
   "metadata": {
    "ExecuteTime": {
     "end_time": "2020-01-14T12:32:07.139881Z",
     "start_time": "2020-01-14T12:32:07.137276Z"
    }
   },
   "outputs": [],
   "source": [
    "# Ref 1\n",
    "#train_df = train_df [ train_df['building_id'] != 1099 ]\n",
    "# Ref 2\n",
    "#train_df = train_df.query('not (building_id <= 104 & meter == 0 & timestamp <= \"2016-05-20\")')"
   ]
  },
  {
   "cell_type": "code",
   "execution_count": 5,
   "metadata": {
    "ExecuteTime": {
     "end_time": "2020-01-14T12:32:10.100018Z",
     "start_time": "2020-01-14T12:32:07.142781Z"
    }
   },
   "outputs": [],
   "source": [
    "# eliminate bad rows\n",
    "bad_rows = pd.read_csv('../prepare_data/rows_to_drop.csv')\n",
    "train_df.drop(bad_rows.loc[:, '0'], inplace = True)\n",
    "train_df.reset_index(drop = True, inplace = True)"
   ]
  },
  {
   "cell_type": "code",
   "execution_count": 6,
   "metadata": {
    "ExecuteTime": {
     "end_time": "2020-01-14T12:32:10.136832Z",
     "start_time": "2020-01-14T12:32:10.101880Z"
    }
   },
   "outputs": [],
   "source": [
    "# Original code from https://www.kaggle.com/aitude/ashrae-missing-weather-data-handling by @aitude\n",
    "def fill_weather_dataset(weather_df):\n",
    "    \n",
    "    # Find Missing Dates\n",
    "    time_format = \"%Y-%m-%d %H:%M:%S\"\n",
    "    start_date = datetime.datetime.strptime(weather_df['timestamp'].min(),time_format)\n",
    "    end_date = datetime.datetime.strptime(weather_df['timestamp'].max(),time_format)\n",
    "    total_hours = int(((end_date - start_date).total_seconds() + 3600) / 3600)\n",
    "    hours_list = [(end_date - datetime.timedelta(hours=x)).strftime(time_format) for x in range(total_hours)]\n",
    "\n",
    "    missing_hours = []\n",
    "    for site_id in range(16):\n",
    "        site_hours = np.array(weather_df[weather_df['site_id'] == site_id]['timestamp'])\n",
    "        new_rows = pd.DataFrame(np.setdiff1d(hours_list,site_hours),columns=['timestamp'])\n",
    "        new_rows['site_id'] = site_id\n",
    "        weather_df = pd.concat([weather_df,new_rows])\n",
    "\n",
    "        weather_df = weather_df.reset_index(drop=True)           \n",
    "\n",
    "    # Add new Features\n",
    "    weather_df[\"datetime\"] = pd.to_datetime(weather_df[\"timestamp\"])\n",
    "    weather_df[\"day\"] = weather_df[\"datetime\"].dt.day\n",
    "    weather_df[\"week\"] = weather_df[\"datetime\"].dt.week\n",
    "    weather_df[\"month\"] = weather_df[\"datetime\"].dt.month\n",
    "    \n",
    "    # Reset Index for Fast Update\n",
    "    weather_df = weather_df.set_index(['site_id','day','month'])\n",
    "\n",
    "    air_temperature_filler = pd.DataFrame(weather_df.groupby(['site_id','day','month'])['air_temperature'].mean(),columns=[\"air_temperature\"])\n",
    "    weather_df.update(air_temperature_filler,overwrite=False)\n",
    "\n",
    "    # Step 1\n",
    "    cloud_coverage_filler = weather_df.groupby(['site_id','day','month'])['cloud_coverage'].mean()\n",
    "    # Step 2\n",
    "    cloud_coverage_filler = pd.DataFrame(cloud_coverage_filler.fillna(method='ffill'),columns=[\"cloud_coverage\"])\n",
    "\n",
    "    weather_df.update(cloud_coverage_filler,overwrite=False)\n",
    "\n",
    "    due_temperature_filler = pd.DataFrame(weather_df.groupby(['site_id','day','month'])['dew_temperature'].mean(),columns=[\"dew_temperature\"])\n",
    "    weather_df.update(due_temperature_filler,overwrite=False)\n",
    "\n",
    "    # Step 1\n",
    "    sea_level_filler = weather_df.groupby(['site_id','day','month'])['sea_level_pressure'].mean()\n",
    "    # Step 2\n",
    "    sea_level_filler = pd.DataFrame(sea_level_filler.fillna(method='ffill'),columns=['sea_level_pressure'])\n",
    "\n",
    "    weather_df.update(sea_level_filler,overwrite=False)\n",
    "\n",
    "    wind_direction_filler =  pd.DataFrame(weather_df.groupby(['site_id','day','month'])['wind_direction'].mean(),columns=['wind_direction'])\n",
    "    weather_df.update(wind_direction_filler,overwrite=False)\n",
    "\n",
    "    wind_speed_filler =  pd.DataFrame(weather_df.groupby(['site_id','day','month'])['wind_speed'].mean(),columns=['wind_speed'])\n",
    "    weather_df.update(wind_speed_filler,overwrite=False)\n",
    "\n",
    "    # Step 1\n",
    "    precip_depth_filler = weather_df.groupby(['site_id','day','month'])['precip_depth_1_hr'].mean()\n",
    "    # Step 2\n",
    "    precip_depth_filler = pd.DataFrame(precip_depth_filler.fillna(method='ffill'),columns=['precip_depth_1_hr'])\n",
    "\n",
    "    weather_df.update(precip_depth_filler,overwrite=False)\n",
    "\n",
    "    weather_df = weather_df.reset_index()\n",
    "    weather_df = weather_df.drop(['datetime','day','week','month'],axis=1)\n",
    "    \n",
    "    def get_meteorological_features(data):\n",
    "        def calculate_rh(df):\n",
    "            df['relative_humidity'] = 100 * (np.exp((17.625 * df['dew_temperature']) / (243.04 + df['dew_temperature'])) / np.exp((17.625 * df['air_temperature'])/(243.04 + df['air_temperature'])))\n",
    "        def calculate_fl(df):\n",
    "            flike_final = []\n",
    "            flike = []\n",
    "            # calculate Feels Like temperature\n",
    "            for i in range(len(df)):\n",
    "                at = df['air_temperature'][i]\n",
    "                rh = df['relative_humidity'][i]\n",
    "                ws = df['wind_speed'][i]\n",
    "                flike.append(feels_like(Temp(at, unit = 'C'), rh, ws))\n",
    "            for i in range(len(flike)):\n",
    "                flike_final.append(flike[i].f)\n",
    "            df['feels_like'] = flike_final\n",
    "            del flike_final, flike, at, rh, ws\n",
    "        calculate_rh(data)\n",
    "        calculate_fl(data)\n",
    "        return data\n",
    "\n",
    "    weather_df = get_meteorological_features(weather_df)\n",
    "    return weather_df"
   ]
  },
  {
   "cell_type": "code",
   "execution_count": 7,
   "metadata": {
    "ExecuteTime": {
     "end_time": "2020-01-14T12:32:10.194115Z",
     "start_time": "2020-01-14T12:32:10.139838Z"
    }
   },
   "outputs": [],
   "source": [
    "def features_engineering(df):\n",
    "    \n",
    "    # Sort by timestamp\n",
    "    df.sort_values(\"timestamp\")\n",
    "    df.reset_index(drop=True)\n",
    "    \n",
    "    # Add more features\n",
    "    df[\"timestamp\"] = pd.to_datetime(df[\"timestamp\"],format=\"%Y-%m-%d %H:%M:%S\")\n",
    "    df[\"hour\"] = df[\"timestamp\"].dt.hour\n",
    "    df[\"dayofweek\"] = df[\"timestamp\"].dt.dayofweek\n",
    "    \n",
    "    df['month'] = df['timestamp'].dt.month\n",
    "    df['month'].replace((1, 2, 3, 4), 1, inplace = True)\n",
    "    df['month'].replace((5, 6, 7, 8), 2, inplace = True)\n",
    "    df['month'].replace((9, 10, 11, 12), 3, inplace = True)\n",
    "  \n",
    "    df['square_feet'] =  np.log1p(df['square_feet'])\n",
    "    \n",
    "    # Remove Unused Columns\n",
    "    drop = [\"timestamp\"]\n",
    "    df = df.drop(drop, axis=1)\n",
    "    gc.collect()\n",
    "    \n",
    "    # Encode Categorical Data\n",
    "    le = LabelEncoder()\n",
    "    df[\"primary_use\"] = le.fit_transform(df[\"primary_use\"])\n",
    "    \n",
    "    return df"
   ]
  },
  {
   "cell_type": "code",
   "execution_count": 8,
   "metadata": {
    "ExecuteTime": {
     "end_time": "2020-01-14T12:32:36.468275Z",
     "start_time": "2020-01-14T12:32:10.198172Z"
    },
    "_kg_hide-output": true
   },
   "outputs": [
    {
     "name": "stderr",
     "output_type": "stream",
     "text": [
      "/mnt/dirac/sano/env36/lib/python3.6/site-packages/ipykernel_launcher.py:16: FutureWarning: Sorting because non-concatenation axis is not aligned. A future version\n",
      "of pandas will change to not sort by default.\n",
      "\n",
      "To accept the future behavior, pass 'sort=False'.\n",
      "\n",
      "To retain the current behavior and silence the warning, pass 'sort=True'.\n",
      "\n",
      "  app.launch_new_instance()\n"
     ]
    },
    {
     "name": "stdout",
     "output_type": "stream",
     "text": [
      "Memory usage of dataframe is 586.85 MB\n",
      "Memory usage after optimization is: 165.43 MB\n",
      "Decreased by 71.8%\n",
      "Memory usage of dataframe is 0.07 MB\n",
      "Memory usage after optimization is: 0.02 MB\n",
      "Decreased by 73.8%\n",
      "Memory usage of dataframe is 11.79 MB\n",
      "Memory usage after optimization is: 3.19 MB\n",
      "Decreased by 72.9%\n"
     ]
    },
    {
     "data": {
      "text/plain": [
       "280"
      ]
     },
     "execution_count": 8,
     "metadata": {},
     "output_type": "execute_result"
    }
   ],
   "source": [
    "# weather manipulation\n",
    "weather_df = fill_weather_dataset(weather_df)\n",
    "\n",
    "# memory reduction\n",
    "train_df = reduce_mem_usage(train_df,use_float16=True)\n",
    "building_df = reduce_mem_usage(building_df,use_float16=True)\n",
    "weather_df = reduce_mem_usage(weather_df,use_float16=True)\n",
    "\n",
    "# merge data\n",
    "train_df = train_df.merge(building_df, left_on='building_id',right_on='building_id',how='left')\n",
    "train_df = train_df.merge(weather_df,how='left',left_on=['site_id','timestamp'],right_on=['site_id','timestamp'])\n",
    "del weather_df\n",
    "gc.collect()"
   ]
  },
  {
   "cell_type": "code",
   "execution_count": 9,
   "metadata": {
    "ExecuteTime": {
     "end_time": "2020-01-14T12:32:48.460254Z",
     "start_time": "2020-01-14T12:32:36.471584Z"
    }
   },
   "outputs": [],
   "source": [
    "# feature engineering\n",
    "train_df = features_engineering(train_df)\n",
    "\n",
    "# transform target variable\n",
    "train_df['meter_reading'] = np.log1p(train_df[\"meter_reading\"])"
   ]
  },
  {
   "cell_type": "code",
   "execution_count": 10,
   "metadata": {
    "ExecuteTime": {
     "end_time": "2020-01-14T12:32:48.471325Z",
     "start_time": "2020-01-14T12:32:48.463907Z"
    },
    "scrolled": false
   },
   "outputs": [],
   "source": [
    "# declare target, categorical and numeric columns\n",
    "target = 'meter_reading'\n",
    "categorical = ['building_id', 'site_id', 'primary_use', 'meter','dayofweek']\n",
    "numeric_cols = [col for col in train_df.columns if col not in categorical + [target, 'timestamp', 'month']]\n",
    "features = categorical + numeric_cols"
   ]
  },
  {
   "cell_type": "code",
   "execution_count": null,
   "metadata": {},
   "outputs": [],
   "source": [
    "# [25]\ttraining's rmse: 1.25406\tvalid_1's rmse: 1.25681\n",
    "# [50]\ttraining's rmse: 0.913443\tvalid_1's rmse: 0.930886\n",
    "# [75]\ttraining's rmse: 0.77157\tvalid_1's rmse: 0.806938\n",
    "# [100]\ttraining's rmse: 0.7031\tvalid_1's rmse: 0.756055\n",
    "# [125]\ttraining's rmse: 0.664112\tvalid_1's rmse: 0.734723\n",
    "# [150]\ttraining's rmse: 0.638228\tvalid_1's rmse: 0.723855\n",
    "# [175]\ttraining's rmse: 0.621655\tvalid_1's rmse: 0.719152\n",
    "# [200]\ttraining's rmse: 0.607032\tvalid_1's rmse: 0.716311\n",
    "# [275]\ttraining's rmse: 0.576362\tvalid_1's rmse: 0.713486\n",
    "# [300]\ttraining's rmse: 0.568852\tvalid_1's rmse: 0.71315\n",
    "# [325]\ttraining's rmse: 0.562056\tvalid_1's rmse: 0.713009\n",
    "# [350]\ttraining's rmse: 0.556695\tvalid_1's rmse: 0.712941\n",
    "# [375]\ttraining's rmse: 0.552125\tvalid_1's rmse: 0.712917\n",
    "# [400]\ttraining's rmse: 0.548573\tvalid_1's rmse: 0.71303\n",
    "# Early stopping, best iteration is:\n",
    "# [365]\ttraining's rmse: 0.553655\tvalid_1's rmse: 0.712821\n",
    "# Training until validation scores don't improve for 50 rounds.\n",
    "# [25]\ttraining's rmse: 1.24301\tvalid_1's rmse: 1.30085\n",
    "# [50]\ttraining's rmse: 0.897613\tvalid_1's rmse: 1.00227\n",
    "# [75]\ttraining's rmse: 0.753752\tvalid_1's rmse: 0.894054\n",
    "# [100]\ttraining's rmse: 0.685639\tvalid_1's rmse: 0.851559\n",
    "# [125]\ttraining's rmse: 0.647952\tvalid_1's rmse: 0.833444"
   ]
  },
  {
   "cell_type": "code",
   "execution_count": 11,
   "metadata": {
    "ExecuteTime": {
     "end_time": "2020-01-14T13:51:24.750181Z",
     "start_time": "2020-01-14T12:32:48.474265Z"
    },
    "scrolled": false
   },
   "outputs": [
    {
     "name": "stderr",
     "output_type": "stream",
     "text": [
      "/mnt/dirac/sano/env36/lib/python3.6/site-packages/lightgbm/basic.py:1205: UserWarning: Using categorical_feature in Dataset.\n",
      "  warnings.warn('Using categorical_feature in Dataset.')\n",
      "/mnt/dirac/sano/env36/lib/python3.6/site-packages/lightgbm/basic.py:762: UserWarning: categorical_feature in param dict is overridden.\n",
      "  warnings.warn('categorical_feature in param dict is overridden.')\n"
     ]
    },
    {
     "name": "stdout",
     "output_type": "stream",
     "text": [
      "Training until validation scores don't improve for 50 rounds.\n",
      "[25]\ttraining's rmse: 1.25406\tvalid_1's rmse: 1.25681\n",
      "[50]\ttraining's rmse: 0.913443\tvalid_1's rmse: 0.930886\n",
      "[75]\ttraining's rmse: 0.77157\tvalid_1's rmse: 0.806938\n",
      "[100]\ttraining's rmse: 0.7031\tvalid_1's rmse: 0.756055\n",
      "[125]\ttraining's rmse: 0.664112\tvalid_1's rmse: 0.734723\n",
      "[150]\ttraining's rmse: 0.638228\tvalid_1's rmse: 0.723855\n",
      "[175]\ttraining's rmse: 0.621655\tvalid_1's rmse: 0.719152\n",
      "[200]\ttraining's rmse: 0.607032\tvalid_1's rmse: 0.716311\n",
      "[275]\ttraining's rmse: 0.576362\tvalid_1's rmse: 0.713486\n",
      "[300]\ttraining's rmse: 0.568852\tvalid_1's rmse: 0.71315\n",
      "[325]\ttraining's rmse: 0.562056\tvalid_1's rmse: 0.713009\n",
      "[350]\ttraining's rmse: 0.556695\tvalid_1's rmse: 0.712941\n",
      "[375]\ttraining's rmse: 0.552125\tvalid_1's rmse: 0.712917\n",
      "[400]\ttraining's rmse: 0.548573\tvalid_1's rmse: 0.71303\n",
      "Early stopping, best iteration is:\n",
      "[365]\ttraining's rmse: 0.553655\tvalid_1's rmse: 0.712821\n",
      "Training until validation scores don't improve for 50 rounds.\n",
      "[25]\ttraining's rmse: 1.24301\tvalid_1's rmse: 1.30085\n",
      "[50]\ttraining's rmse: 0.897613\tvalid_1's rmse: 1.00227\n",
      "[75]\ttraining's rmse: 0.753752\tvalid_1's rmse: 0.894054\n",
      "[100]\ttraining's rmse: 0.685639\tvalid_1's rmse: 0.851559\n",
      "[125]\ttraining's rmse: 0.647952\tvalid_1's rmse: 0.833444\n",
      "[150]\ttraining's rmse: 0.623463\tvalid_1's rmse: 0.824196\n",
      "[175]\ttraining's rmse: 0.607984\tvalid_1's rmse: 0.820159\n",
      "[200]\ttraining's rmse: 0.594089\tvalid_1's rmse: 0.817567\n",
      "[225]\ttraining's rmse: 0.583768\tvalid_1's rmse: 0.816322\n",
      "[250]\ttraining's rmse: 0.57428\tvalid_1's rmse: 0.815236\n",
      "[275]\ttraining's rmse: 0.566014\tvalid_1's rmse: 0.814591\n",
      "[300]\ttraining's rmse: 0.559118\tvalid_1's rmse: 0.814028\n",
      "[325]\ttraining's rmse: 0.553177\tvalid_1's rmse: 0.813708\n",
      "[350]\ttraining's rmse: 0.548443\tvalid_1's rmse: 0.813577\n",
      "[375]\ttraining's rmse: 0.54443\tvalid_1's rmse: 0.813505\n",
      "[400]\ttraining's rmse: 0.541033\tvalid_1's rmse: 0.813624\n",
      "Early stopping, best iteration is:\n",
      "[361]\ttraining's rmse: 0.546513\tvalid_1's rmse: 0.81347\n",
      "Training until validation scores don't improve for 50 rounds.\n",
      "[25]\ttraining's rmse: 1.25112\tvalid_1's rmse: 1.27009\n",
      "[50]\ttraining's rmse: 0.907644\tvalid_1's rmse: 0.959542\n",
      "[75]\ttraining's rmse: 0.765004\tvalid_1's rmse: 0.843644\n",
      "[100]\ttraining's rmse: 0.69658\tvalid_1's rmse: 0.796714\n",
      "[125]\ttraining's rmse: 0.65736\tvalid_1's rmse: 0.77594\n",
      "[150]\ttraining's rmse: 0.631381\tvalid_1's rmse: 0.765183\n",
      "[175]\ttraining's rmse: 0.615187\tvalid_1's rmse: 0.76034\n",
      "[200]\ttraining's rmse: 0.600426\tvalid_1's rmse: 0.756987\n",
      "[225]\ttraining's rmse: 0.589129\tvalid_1's rmse: 0.755498\n",
      "[250]\ttraining's rmse: 0.579033\tvalid_1's rmse: 0.754134\n",
      "[275]\ttraining's rmse: 0.57027\tvalid_1's rmse: 0.75341\n",
      "[300]\ttraining's rmse: 0.563051\tvalid_1's rmse: 0.752704\n",
      "[325]\ttraining's rmse: 0.556481\tvalid_1's rmse: 0.752386\n",
      "[350]\ttraining's rmse: 0.551563\tvalid_1's rmse: 0.752052\n",
      "[375]\ttraining's rmse: 0.54708\tvalid_1's rmse: 0.751904\n",
      "[400]\ttraining's rmse: 0.543467\tvalid_1's rmse: 0.751965\n",
      "[425]\ttraining's rmse: 0.54005\tvalid_1's rmse: 0.751984\n",
      "Early stopping, best iteration is:\n",
      "[382]\ttraining's rmse: 0.546059\tvalid_1's rmse: 0.75189\n",
      "Training until validation scores don't improve for 50 rounds.\n",
      "[25]\ttraining's rmse: 1.2564\tvalid_1's rmse: 1.25661\n",
      "[50]\ttraining's rmse: 0.917666\tvalid_1's rmse: 0.923708\n",
      "[75]\ttraining's rmse: 0.775989\tvalid_1's rmse: 0.792661\n",
      "[100]\ttraining's rmse: 0.707974\tvalid_1's rmse: 0.736898\n",
      "[125]\ttraining's rmse: 0.668054\tvalid_1's rmse: 0.712035\n",
      "[150]\ttraining's rmse: 0.6418\tvalid_1's rmse: 0.698784\n",
      "[175]\ttraining's rmse: 0.624938\tvalid_1's rmse: 0.692828\n",
      "[200]\ttraining's rmse: 0.609512\tvalid_1's rmse: 0.688624\n",
      "[225]\ttraining's rmse: 0.597508\tvalid_1's rmse: 0.686713\n",
      "[250]\ttraining's rmse: 0.587069\tvalid_1's rmse: 0.685265\n",
      "[275]\ttraining's rmse: 0.578032\tvalid_1's rmse: 0.684378\n",
      "[300]\ttraining's rmse: 0.570125\tvalid_1's rmse: 0.683744\n",
      "[325]\ttraining's rmse: 0.563193\tvalid_1's rmse: 0.683265\n",
      "[350]\ttraining's rmse: 0.557811\tvalid_1's rmse: 0.683007\n",
      "[375]\ttraining's rmse: 0.553123\tvalid_1's rmse: 0.682812\n",
      "[400]\ttraining's rmse: 0.549276\tvalid_1's rmse: 0.682931\n",
      "[425]\ttraining's rmse: 0.545463\tvalid_1's rmse: 0.682991\n",
      "Early stopping, best iteration is:\n",
      "[376]\ttraining's rmse: 0.552958\tvalid_1's rmse: 0.682805\n",
      "Training until validation scores don't improve for 50 rounds.\n",
      "[25]\ttraining's rmse: 1.25253\tvalid_1's rmse: 1.26565\n",
      "[50]\ttraining's rmse: 0.912509\tvalid_1's rmse: 0.939332\n",
      "[75]\ttraining's rmse: 0.77029\tvalid_1's rmse: 0.815968\n",
      "[100]\ttraining's rmse: 0.702085\tvalid_1's rmse: 0.767424\n",
      "[125]\ttraining's rmse: 0.663225\tvalid_1's rmse: 0.747317\n",
      "[150]\ttraining's rmse: 0.637598\tvalid_1's rmse: 0.737622\n",
      "[175]\ttraining's rmse: 0.620825\tvalid_1's rmse: 0.733461\n",
      "[200]\ttraining's rmse: 0.605999\tvalid_1's rmse: 0.730711\n",
      "[225]\ttraining's rmse: 0.594321\tvalid_1's rmse: 0.729723\n",
      "[250]\ttraining's rmse: 0.58424\tvalid_1's rmse: 0.729023\n",
      "[275]\ttraining's rmse: 0.575347\tvalid_1's rmse: 0.72873\n",
      "[300]\ttraining's rmse: 0.567558\tvalid_1's rmse: 0.72845\n",
      "[325]\ttraining's rmse: 0.560647\tvalid_1's rmse: 0.728437\n",
      "[350]\ttraining's rmse: 0.555579\tvalid_1's rmse: 0.728453\n",
      "Early stopping, best iteration is:\n",
      "[304]\ttraining's rmse: 0.56631\tvalid_1's rmse: 0.728373\n",
      "Our oof cv is : 0.7391015763077363\n"
     ]
    },
    {
     "data": {
      "image/png": "[encoded data removed]",
      "text/plain": [
       "<Figure size 1008x1872 with 1 Axes>"
      ]
     },
     "metadata": {
      "needs_background": "light"
     },
     "output_type": "display_data"
    }
   ],
   "source": [
    "import seaborn as sns\n",
    "\n",
    "def run_lgbm(train, cat_features = categorical, num_rounds = 20000, folds = 5):\n",
    "    kf = StratifiedKFold(n_splits=folds, shuffle=False, random_state=2319)\n",
    "    models = []\n",
    "    feature_importance_df = pd.DataFrame()\n",
    "\n",
    "    param =  {'num_leaves': 3160,\n",
    "             'objective': 'regression',\n",
    "             'learning_rate': 0.03,\n",
    "             'boosting': 'gbdt',\n",
    "             'subsample': 0.5,\n",
    "             'feature_fraction': 0.7,\n",
    "             'n_jobs': 4,\n",
    "             'seed': 50,\n",
    "             'metric': 'rmse'\n",
    "              }\n",
    "    \n",
    "    oof = np.zeros(len(train))\n",
    "  \n",
    "    for tr_idx, val_idx in kf.split(train_df,train_df['month']):\n",
    "        tr_x, tr_y = train[features].iloc[tr_idx], train[target].iloc[tr_idx]\n",
    "        vl_x, vl_y = train[features].iloc[val_idx], train[target].iloc[val_idx]\n",
    "        tr_data = lgb.Dataset(tr_x, label = tr_y,  categorical_feature = categorical)\n",
    "        vl_data = lgb.Dataset(vl_x, label = vl_y,  categorical_feature = categorical)\n",
    "        clf = lgb.train(param, tr_data, num_rounds, valid_sets = [tr_data, vl_data], verbose_eval = 25, \n",
    "                        early_stopping_rounds = 50)\n",
    "        \n",
    "        fold_importance_df = pd.DataFrame()\n",
    "        fold_importance_df[\"feature\"] = features\n",
    "        fold_importance_df[\"importance\"] = clf.feature_importance()\n",
    "        \n",
    "        feature_importance_df = pd.concat([feature_importance_df, fold_importance_df], axis=0)\n",
    "        models.append(clf)\n",
    "        oof[val_idx] = clf.predict(vl_x)\n",
    "        gc.collect()\n",
    "    score = np.sqrt(metrics.mean_squared_error(train[target], np.clip(oof, a_min=0, a_max=None)))\n",
    "    print('Our oof cv is :', score)\n",
    "    \n",
    "    cols = (feature_importance_df[[\"feature\", \"importance\"]]\n",
    "        .groupby(\"feature\")\n",
    "        .mean()\n",
    "        .sort_values(by=\"importance\", ascending=False)[:20].index)\n",
    "    best_features = feature_importance_df.loc[feature_importance_df.feature.isin(cols)]\n",
    "\n",
    "    plt.figure(figsize=(14,26))\n",
    "    sns.barplot(x=\"importance\", y=\"feature\", data=best_features.sort_values(by=\"importance\",ascending=False))\n",
    "    plt.title('LightGBM Features (averaged over folds)')\n",
    "    plt.tight_layout()\n",
    "    plt.savefig('lgbm_importances.png')\n",
    "\n",
    "    return models\n",
    "models = run_lgbm(train_df)"
   ]
  },
  {
   "cell_type": "code",
   "execution_count": 12,
   "metadata": {
    "ExecuteTime": {
     "end_time": "2020-01-14T13:53:22.217426Z",
     "start_time": "2020-01-14T13:51:24.751332Z"
    },
    "_kg_hide-output": true
   },
   "outputs": [
    {
     "name": "stdout",
     "output_type": "stream",
     "text": [
      "Memory usage of dataframe is 954.38 MB\n",
      "Memory usage after optimization is: 199.59 MB\n",
      "Decreased by 79.1%\n"
     ]
    },
    {
     "name": "stderr",
     "output_type": "stream",
     "text": [
      "/mnt/dirac/sano/env36/lib/python3.6/site-packages/ipykernel_launcher.py:16: FutureWarning: Sorting because non-concatenation axis is not aligned. A future version\n",
      "of pandas will change to not sort by default.\n",
      "\n",
      "To accept the future behavior, pass 'sort=False'.\n",
      "\n",
      "To retain the current behavior and silence the warning, pass 'sort=True'.\n",
      "\n",
      "  app.launch_new_instance()\n"
     ]
    },
    {
     "name": "stdout",
     "output_type": "stream",
     "text": [
      "Memory usage of dataframe is 23.53 MB\n",
      "Memory usage after optimization is: 11.18 MB\n",
      "Decreased by 52.5%\n"
     ]
    }
   ],
   "source": [
    "# read test\n",
    "test_df = pd.read_csv('../input/test.csv')\n",
    "row_ids = test_df[\"row_id\"]\n",
    "test_df.drop(\"row_id\", axis=1, inplace=True)\n",
    "test_df = reduce_mem_usage(test_df)\n",
    "\n",
    "# merge with building info\n",
    "test_df = test_df.merge(building_df,left_on='building_id',right_on='building_id',how='left')\n",
    "del building_df\n",
    "gc.collect()\n",
    "\n",
    "# fill test weather data\n",
    "weather_df = pd.read_csv('../input/weather_test.csv')\n",
    "weather_df = fill_weather_dataset(weather_df)\n",
    "weather_df = reduce_mem_usage(weather_df)\n",
    "\n",
    "# merge weather data\n",
    "test_df = test_df.merge(weather_df,how='left',on=['timestamp','site_id'])\n",
    "del weather_df\n",
    "gc.collect()\n",
    "\n",
    "# feature engineering\n",
    "test_df = features_engineering(test_df)"
   ]
  },
  {
   "cell_type": "code",
   "execution_count": 17,
   "metadata": {
    "ExecuteTime": {
     "end_time": "2020-01-15T06:20:32.536675Z",
     "start_time": "2020-01-15T00:39:39.139305Z"
    }
   },
   "outputs": [
    {
     "name": "stderr",
     "output_type": "stream",
     "text": [
      "100%|██████████| 120/120 [2:50:29<00:00, 85.24s/it] \n"
     ]
    },
    {
     "name": "stdout",
     "output_type": "stream",
     "text": [
      "41697600\n",
      "            row_id  meter_reading\n",
      "0                0     169.928784\n",
      "1                1      77.295222\n",
      "2                2       6.632264\n",
      "3                3     302.627339\n",
      "4                4    1365.956513\n",
      "5                5       9.634977\n",
      "6                6     134.181617\n",
      "7                7     474.951929\n",
      "8                8     759.126945\n",
      "9                9     386.800533\n",
      "10              10      56.851575\n",
      "11              11       9.180681\n",
      "12              12    1201.570342\n",
      "13              13     419.233694\n",
      "14              14     268.023872\n",
      "15              15     194.451662\n",
      "16              16      29.122956\n",
      "17              17     290.210436\n",
      "18              18     599.752901\n",
      "19              19     191.076235\n",
      "20              20     349.218151\n",
      "21              21    1180.709102\n",
      "22              22     122.956718\n",
      "23              23    1737.151639\n",
      "24              24     180.285861\n",
      "25              25     401.046224\n",
      "26              26      38.335025\n",
      "27              27      24.547823\n",
      "28              28     760.912432\n",
      "29              29     637.903058\n",
      "...            ...            ...\n",
      "41697570  41697570    1912.728852\n",
      "41697571  41697571      45.090805\n",
      "41697572  41697572      32.188736\n",
      "41697573  41697573     413.112988\n",
      "41697574  41697574     202.085303\n",
      "41697575  41697575     135.135687\n",
      "41697576  41697576     218.473919\n",
      "41697577  41697577     487.931005\n",
      "41697578  41697578      40.226548\n",
      "41697579  41697579    1007.744348\n",
      "41697580  41697580      80.185475\n",
      "41697581  41697581     364.926697\n",
      "41697582  41697582       5.928192\n",
      "41697583  41697583      13.630033\n",
      "41697584  41697584    1114.473645\n",
      "41697585  41697585     455.991029\n",
      "41697586  41697586     653.453494\n",
      "41697587  41697587     185.686428\n",
      "41697588  41697588     515.419061\n",
      "41697589  41697589     199.080488\n",
      "41697590  41697590     275.815140\n",
      "41697591  41697591     301.238997\n",
      "41697592  41697592      92.366326\n",
      "41697593  41697593       8.207723\n",
      "41697594  41697594      89.591703\n",
      "41697595  41697595       6.272899\n",
      "41697596  41697596       4.404887\n",
      "41697597  41697597       6.898126\n",
      "41697598  41697598     178.391813\n",
      "41697599  41697599       3.827806\n",
      "\n",
      "[41697600 rows x 2 columns]\n",
      "We are done!\n",
      "41697600\n"
     ]
    },
    {
     "ename": "FileNotFoundError",
     "evalue": "[Errno 2] File b'../output/sample_submission.csv' does not exist: b'../output/sample_submission.csv'",
     "output_type": "error",
     "traceback": [
      "\u001b[0;31m---------------------------------------------------------------------------\u001b[0m",
      "\u001b[0;31mFileNotFoundError\u001b[0m                         Traceback (most recent call last)",
      "\u001b[0;32m<ipython-input-17-5b9d04276858>\u001b[0m in \u001b[0;36m<module>\u001b[0;34m\u001b[0m\n\u001b[1;32m     16\u001b[0m \u001b[0mprint\u001b[0m\u001b[0;34m(\u001b[0m\u001b[0msubmission\u001b[0m\u001b[0;34m)\u001b[0m\u001b[0;34m\u001b[0m\u001b[0;34m\u001b[0m\u001b[0m\n\u001b[1;32m     17\u001b[0m \u001b[0mprint\u001b[0m\u001b[0;34m(\u001b[0m\u001b[0;34m'We are done!'\u001b[0m\u001b[0;34m)\u001b[0m\u001b[0;34m\u001b[0m\u001b[0;34m\u001b[0m\u001b[0m\n\u001b[0;32m---> 18\u001b[0;31m \u001b[0mpredictions\u001b[0m\u001b[0;34m(\u001b[0m\u001b[0mmodels\u001b[0m\u001b[0;34m)\u001b[0m\u001b[0;34m\u001b[0m\u001b[0;34m\u001b[0m\u001b[0m\n\u001b[0m",
      "\u001b[0;32m<ipython-input-14-b6b7ff80815f>\u001b[0m in \u001b[0;36mpredictions\u001b[0;34m(models, iterations)\u001b[0m\n\u001b[1;32m     11\u001b[0m     \u001b[0mprint\u001b[0m\u001b[0;34m(\u001b[0m\u001b[0mlen\u001b[0m\u001b[0;34m(\u001b[0m\u001b[0mmeter_reading\u001b[0m\u001b[0;34m)\u001b[0m\u001b[0;34m)\u001b[0m\u001b[0;34m\u001b[0m\u001b[0;34m\u001b[0m\u001b[0m\n\u001b[1;32m     12\u001b[0m     \u001b[0;32massert\u001b[0m \u001b[0mlen\u001b[0m\u001b[0;34m(\u001b[0m\u001b[0mmeter_reading\u001b[0m\u001b[0;34m)\u001b[0m \u001b[0;34m==\u001b[0m \u001b[0mset_size\u001b[0m\u001b[0;34m\u001b[0m\u001b[0;34m\u001b[0m\u001b[0m\n\u001b[0;32m---> 13\u001b[0;31m     \u001b[0msubmission\u001b[0m \u001b[0;34m=\u001b[0m \u001b[0mpd\u001b[0m\u001b[0;34m.\u001b[0m\u001b[0mread_csv\u001b[0m\u001b[0;34m(\u001b[0m\u001b[0;34m'../output/sample_submission.csv'\u001b[0m\u001b[0;34m)\u001b[0m\u001b[0;34m\u001b[0m\u001b[0;34m\u001b[0m\u001b[0m\n\u001b[0m\u001b[1;32m     14\u001b[0m     \u001b[0msubmission\u001b[0m\u001b[0;34m[\u001b[0m\u001b[0;34m'meter_reading'\u001b[0m\u001b[0;34m]\u001b[0m \u001b[0;34m=\u001b[0m \u001b[0mnp\u001b[0m\u001b[0;34m.\u001b[0m\u001b[0mclip\u001b[0m\u001b[0;34m(\u001b[0m\u001b[0mmeter_reading\u001b[0m\u001b[0;34m,\u001b[0m \u001b[0ma_min\u001b[0m\u001b[0;34m=\u001b[0m\u001b[0;36m0\u001b[0m\u001b[0;34m,\u001b[0m \u001b[0ma_max\u001b[0m\u001b[0;34m=\u001b[0m\u001b[0;32mNone\u001b[0m\u001b[0;34m)\u001b[0m \u001b[0;31m# clip min at zero\u001b[0m\u001b[0;34m\u001b[0m\u001b[0;34m\u001b[0m\u001b[0m\n\u001b[1;32m     15\u001b[0m     \u001b[0msubmission\u001b[0m\u001b[0;34m.\u001b[0m\u001b[0mto_csv\u001b[0m\u001b[0;34m(\u001b[0m\u001b[0;34m'fe2_lgbm.csv'\u001b[0m\u001b[0;34m,\u001b[0m \u001b[0mindex\u001b[0m\u001b[0;34m=\u001b[0m\u001b[0;32mFalse\u001b[0m\u001b[0;34m)\u001b[0m\u001b[0;34m\u001b[0m\u001b[0;34m\u001b[0m\u001b[0m\n",
      "\u001b[0;32m/mnt/dirac/sano/env36/lib/python3.6/site-packages/pandas/io/parsers.py\u001b[0m in \u001b[0;36mparser_f\u001b[0;34m(filepath_or_buffer, sep, delimiter, header, names, index_col, usecols, squeeze, prefix, mangle_dupe_cols, dtype, engine, converters, true_values, false_values, skipinitialspace, skiprows, skipfooter, nrows, na_values, keep_default_na, na_filter, verbose, skip_blank_lines, parse_dates, infer_datetime_format, keep_date_col, date_parser, dayfirst, iterator, chunksize, compression, thousands, decimal, lineterminator, quotechar, quoting, doublequote, escapechar, comment, encoding, dialect, tupleize_cols, error_bad_lines, warn_bad_lines, delim_whitespace, low_memory, memory_map, float_precision)\u001b[0m\n\u001b[1;32m    700\u001b[0m                     skip_blank_lines=skip_blank_lines)\n\u001b[1;32m    701\u001b[0m \u001b[0;34m\u001b[0m\u001b[0m\n\u001b[0;32m--> 702\u001b[0;31m         \u001b[0;32mreturn\u001b[0m \u001b[0m_read\u001b[0m\u001b[0;34m(\u001b[0m\u001b[0mfilepath_or_buffer\u001b[0m\u001b[0;34m,\u001b[0m \u001b[0mkwds\u001b[0m\u001b[0;34m)\u001b[0m\u001b[0;34m\u001b[0m\u001b[0;34m\u001b[0m\u001b[0m\n\u001b[0m\u001b[1;32m    703\u001b[0m \u001b[0;34m\u001b[0m\u001b[0m\n\u001b[1;32m    704\u001b[0m     \u001b[0mparser_f\u001b[0m\u001b[0;34m.\u001b[0m\u001b[0m__name__\u001b[0m \u001b[0;34m=\u001b[0m \u001b[0mname\u001b[0m\u001b[0;34m\u001b[0m\u001b[0;34m\u001b[0m\u001b[0m\n",
      "\u001b[0;32m/mnt/dirac/sano/env36/lib/python3.6/site-packages/pandas/io/parsers.py\u001b[0m in \u001b[0;36m_read\u001b[0;34m(filepath_or_buffer, kwds)\u001b[0m\n\u001b[1;32m    427\u001b[0m \u001b[0;34m\u001b[0m\u001b[0m\n\u001b[1;32m    428\u001b[0m     \u001b[0;31m# Create the parser.\u001b[0m\u001b[0;34m\u001b[0m\u001b[0;34m\u001b[0m\u001b[0;34m\u001b[0m\u001b[0m\n\u001b[0;32m--> 429\u001b[0;31m     \u001b[0mparser\u001b[0m \u001b[0;34m=\u001b[0m \u001b[0mTextFileReader\u001b[0m\u001b[0;34m(\u001b[0m\u001b[0mfilepath_or_buffer\u001b[0m\u001b[0;34m,\u001b[0m \u001b[0;34m**\u001b[0m\u001b[0mkwds\u001b[0m\u001b[0;34m)\u001b[0m\u001b[0;34m\u001b[0m\u001b[0;34m\u001b[0m\u001b[0m\n\u001b[0m\u001b[1;32m    430\u001b[0m \u001b[0;34m\u001b[0m\u001b[0m\n\u001b[1;32m    431\u001b[0m     \u001b[0;32mif\u001b[0m \u001b[0mchunksize\u001b[0m \u001b[0;32mor\u001b[0m \u001b[0miterator\u001b[0m\u001b[0;34m:\u001b[0m\u001b[0;34m\u001b[0m\u001b[0;34m\u001b[0m\u001b[0m\n",
      "\u001b[0;32m/mnt/dirac/sano/env36/lib/python3.6/site-packages/pandas/io/parsers.py\u001b[0m in \u001b[0;36m__init__\u001b[0;34m(self, f, engine, **kwds)\u001b[0m\n\u001b[1;32m    893\u001b[0m             \u001b[0mself\u001b[0m\u001b[0;34m.\u001b[0m\u001b[0moptions\u001b[0m\u001b[0;34m[\u001b[0m\u001b[0;34m'has_index_names'\u001b[0m\u001b[0;34m]\u001b[0m \u001b[0;34m=\u001b[0m \u001b[0mkwds\u001b[0m\u001b[0;34m[\u001b[0m\u001b[0;34m'has_index_names'\u001b[0m\u001b[0;34m]\u001b[0m\u001b[0;34m\u001b[0m\u001b[0;34m\u001b[0m\u001b[0m\n\u001b[1;32m    894\u001b[0m \u001b[0;34m\u001b[0m\u001b[0m\n\u001b[0;32m--> 895\u001b[0;31m         \u001b[0mself\u001b[0m\u001b[0;34m.\u001b[0m\u001b[0m_make_engine\u001b[0m\u001b[0;34m(\u001b[0m\u001b[0mself\u001b[0m\u001b[0;34m.\u001b[0m\u001b[0mengine\u001b[0m\u001b[0;34m)\u001b[0m\u001b[0;34m\u001b[0m\u001b[0;34m\u001b[0m\u001b[0m\n\u001b[0m\u001b[1;32m    896\u001b[0m \u001b[0;34m\u001b[0m\u001b[0m\n\u001b[1;32m    897\u001b[0m     \u001b[0;32mdef\u001b[0m \u001b[0mclose\u001b[0m\u001b[0;34m(\u001b[0m\u001b[0mself\u001b[0m\u001b[0;34m)\u001b[0m\u001b[0;34m:\u001b[0m\u001b[0;34m\u001b[0m\u001b[0;34m\u001b[0m\u001b[0m\n",
      "\u001b[0;32m/mnt/dirac/sano/env36/lib/python3.6/site-packages/pandas/io/parsers.py\u001b[0m in \u001b[0;36m_make_engine\u001b[0;34m(self, engine)\u001b[0m\n\u001b[1;32m   1120\u001b[0m     \u001b[0;32mdef\u001b[0m \u001b[0m_make_engine\u001b[0m\u001b[0;34m(\u001b[0m\u001b[0mself\u001b[0m\u001b[0;34m,\u001b[0m \u001b[0mengine\u001b[0m\u001b[0;34m=\u001b[0m\u001b[0;34m'c'\u001b[0m\u001b[0;34m)\u001b[0m\u001b[0;34m:\u001b[0m\u001b[0;34m\u001b[0m\u001b[0;34m\u001b[0m\u001b[0m\n\u001b[1;32m   1121\u001b[0m         \u001b[0;32mif\u001b[0m \u001b[0mengine\u001b[0m \u001b[0;34m==\u001b[0m \u001b[0;34m'c'\u001b[0m\u001b[0;34m:\u001b[0m\u001b[0;34m\u001b[0m\u001b[0;34m\u001b[0m\u001b[0m\n\u001b[0;32m-> 1122\u001b[0;31m             \u001b[0mself\u001b[0m\u001b[0;34m.\u001b[0m\u001b[0m_engine\u001b[0m \u001b[0;34m=\u001b[0m \u001b[0mCParserWrapper\u001b[0m\u001b[0;34m(\u001b[0m\u001b[0mself\u001b[0m\u001b[0;34m.\u001b[0m\u001b[0mf\u001b[0m\u001b[0;34m,\u001b[0m \u001b[0;34m**\u001b[0m\u001b[0mself\u001b[0m\u001b[0;34m.\u001b[0m\u001b[0moptions\u001b[0m\u001b[0;34m)\u001b[0m\u001b[0;34m\u001b[0m\u001b[0;34m\u001b[0m\u001b[0m\n\u001b[0m\u001b[1;32m   1123\u001b[0m         \u001b[0;32melse\u001b[0m\u001b[0;34m:\u001b[0m\u001b[0;34m\u001b[0m\u001b[0;34m\u001b[0m\u001b[0m\n\u001b[1;32m   1124\u001b[0m             \u001b[0;32mif\u001b[0m \u001b[0mengine\u001b[0m \u001b[0;34m==\u001b[0m \u001b[0;34m'python'\u001b[0m\u001b[0;34m:\u001b[0m\u001b[0;34m\u001b[0m\u001b[0;34m\u001b[0m\u001b[0m\n",
      "\u001b[0;32m/mnt/dirac/sano/env36/lib/python3.6/site-packages/pandas/io/parsers.py\u001b[0m in \u001b[0;36m__init__\u001b[0;34m(self, src, **kwds)\u001b[0m\n\u001b[1;32m   1851\u001b[0m         \u001b[0mkwds\u001b[0m\u001b[0;34m[\u001b[0m\u001b[0;34m'usecols'\u001b[0m\u001b[0;34m]\u001b[0m \u001b[0;34m=\u001b[0m \u001b[0mself\u001b[0m\u001b[0;34m.\u001b[0m\u001b[0musecols\u001b[0m\u001b[0;34m\u001b[0m\u001b[0;34m\u001b[0m\u001b[0m\n\u001b[1;32m   1852\u001b[0m \u001b[0;34m\u001b[0m\u001b[0m\n\u001b[0;32m-> 1853\u001b[0;31m         \u001b[0mself\u001b[0m\u001b[0;34m.\u001b[0m\u001b[0m_reader\u001b[0m \u001b[0;34m=\u001b[0m \u001b[0mparsers\u001b[0m\u001b[0;34m.\u001b[0m\u001b[0mTextReader\u001b[0m\u001b[0;34m(\u001b[0m\u001b[0msrc\u001b[0m\u001b[0;34m,\u001b[0m \u001b[0;34m**\u001b[0m\u001b[0mkwds\u001b[0m\u001b[0;34m)\u001b[0m\u001b[0;34m\u001b[0m\u001b[0;34m\u001b[0m\u001b[0m\n\u001b[0m\u001b[1;32m   1854\u001b[0m         \u001b[0mself\u001b[0m\u001b[0;34m.\u001b[0m\u001b[0munnamed_cols\u001b[0m \u001b[0;34m=\u001b[0m \u001b[0mself\u001b[0m\u001b[0;34m.\u001b[0m\u001b[0m_reader\u001b[0m\u001b[0;34m.\u001b[0m\u001b[0munnamed_cols\u001b[0m\u001b[0;34m\u001b[0m\u001b[0;34m\u001b[0m\u001b[0m\n\u001b[1;32m   1855\u001b[0m \u001b[0;34m\u001b[0m\u001b[0m\n",
      "\u001b[0;32mpandas/_libs/parsers.pyx\u001b[0m in \u001b[0;36mpandas._libs.parsers.TextReader.__cinit__\u001b[0;34m()\u001b[0m\n",
      "\u001b[0;32mpandas/_libs/parsers.pyx\u001b[0m in \u001b[0;36mpandas._libs.parsers.TextReader._setup_parser_source\u001b[0;34m()\u001b[0m\n",
      "\u001b[0;31mFileNotFoundError\u001b[0m: [Errno 2] File b'../output/sample_submission.csv' does not exist: b'../output/sample_submission.csv'"
     ]
    }
   ],
   "source": [
    "iterations = 120\n",
    "# split test data into batches\n",
    "set_size = len(test_df)\n",
    "batch_size = set_size // iterations\n",
    "meter_reading = []\n",
    "for i in tqdm(range(iterations)):\n",
    "    pos = i*batch_size\n",
    "    fold_preds = [np.expm1(model.predict(test_df[features].iloc[pos : pos+batch_size])) for model in models]\n",
    "    meter_reading.extend(np.mean(fold_preds, axis=0))\n",
    "\n",
    "print(len(meter_reading))\n",
    "assert len(meter_reading) == set_size\n",
    "submission = pd.read_csv('../input/sample_submission.csv')\n",
    "submission['meter_reading'] = np.clip(meter_reading, a_min=0, a_max=None) # clip min at zero\n",
    "submission.to_csv('fe2_lgbm.csv', index=False)\n",
    "print(submission)\n",
    "print('We are done!')\n",
    "predictions(models)"
   ]
  },
  {
   "cell_type": "code",
   "execution_count": null,
   "metadata": {},
   "outputs": [],
   "source": []
  },
  {
   "cell_type": "code",
   "execution_count": null,
   "metadata": {
    "ExecuteTime": {
     "end_time": "2020-01-14T17:26:56.362605Z",
     "start_time": "2020-01-14T14:18:52.704Z"
    }
   },
   "outputs": [],
   "source": [
    "a = pd.read_csv('../old_submission_fe2_lgbm')"
   ]
  },
  {
   "cell_type": "code",
   "execution_count": null,
   "metadata": {
    "ExecuteTime": {
     "end_time": "2020-01-14T17:26:56.363394Z",
     "start_time": "2020-01-14T14:18:56.216Z"
    }
   },
   "outputs": [],
   "source": [
    "a.head()"
   ]
  }
 ],
 "metadata": {
  "kernelspec": {
   "display_name": "Python 3",
   "language": "python",
   "name": "python3"
  },
  "widgets": {
   "application/vnd.jupyter.widget-state+json": {
    "state": {
     "12f264a873544599a216ade6a654850e": {
      "model_module": "@jupyter-widgets/base",
      "model_module_version": "1.2.0",
      "model_name": "LayoutModel",
      "state": {
       "_model_module": "@jupyter-widgets/base",
       "_model_module_version": "1.2.0",
       "_model_name": "LayoutModel",
       "_view_count": null,
       "_view_module": "@jupyter-widgets/base",
       "_view_module_version": "1.2.0",
       "_view_name": "LayoutView",
       "align_content": null,
       "align_items": null,
       "align_self": null,
       "border": null,
       "bottom": null,
       "display": null,
       "flex": null,
       "flex_flow": null,
       "grid_area": null,
       "grid_auto_columns": null,
       "grid_auto_flow": null,
       "grid_auto_rows": null,
       "grid_column": null,
       "grid_gap": null,
       "grid_row": null,
       "grid_template_areas": null,
       "grid_template_columns": null,
       "grid_template_rows": null,
       "height": null,
       "justify_content": null,
       "justify_items": null,
       "left": null,
       "margin": null,
       "max_height": null,
       "max_width": null,
       "min_height": null,
       "min_width": null,
       "object_fit": null,
       "object_position": null,
       "order": null,
       "overflow": null,
       "overflow_x": null,
       "overflow_y": null,
       "padding": null,
       "right": null,
       "top": null,
       "visibility": null,
       "width": null
      }
     },
     "13041d1a4e99460498b6567d6e936d6f": {
      "model_module": "@jupyter-widgets/controls",
      "model_module_version": "1.5.0",
      "model_name": "ProgressStyleModel",
      "state": {
       "_model_module": "@jupyter-widgets/controls",
       "_model_module_version": "1.5.0",
       "_model_name": "ProgressStyleModel",
       "_view_count": null,
       "_view_module": "@jupyter-widgets/base",
       "_view_module_version": "1.2.0",
       "_view_name": "StyleView",
       "bar_color": null,
       "description_width": "initial"
      }
     },
     "332323443f4c45ba8cdb3c83695d8d1d": {
      "model_module": "@jupyter-widgets/controls",
      "model_module_version": "1.5.0",
      "model_name": "IntProgressModel",
      "state": {
       "_dom_classes": [],
       "_model_module": "@jupyter-widgets/controls",
       "_model_module_version": "1.5.0",
       "_model_name": "IntProgressModel",
       "_view_count": null,
       "_view_module": "@jupyter-widgets/controls",
       "_view_module_version": "1.5.0",
       "_view_name": "ProgressView",
       "bar_style": "success",
       "description": "100%",
       "description_tooltip": null,
       "layout": "IPY_MODEL_4bacb7972f83466b8ad41095777d58a4",
       "max": 5,
       "min": 0,
       "orientation": "horizontal",
       "style": "IPY_MODEL_13041d1a4e99460498b6567d6e936d6f",
       "value": 5
      }
     },
     "4bacb7972f83466b8ad41095777d58a4": {
      "model_module": "@jupyter-widgets/base",
      "model_module_version": "1.2.0",
      "model_name": "LayoutModel",
      "state": {
       "_model_module": "@jupyter-widgets/base",
       "_model_module_version": "1.2.0",
       "_model_name": "LayoutModel",
       "_view_count": null,
       "_view_module": "@jupyter-widgets/base",
       "_view_module_version": "1.2.0",
       "_view_name": "LayoutView",
       "align_content": null,
       "align_items": null,
       "align_self": null,
       "border": null,
       "bottom": null,
       "display": null,
       "flex": null,
       "flex_flow": null,
       "grid_area": null,
       "grid_auto_columns": null,
       "grid_auto_flow": null,
       "grid_auto_rows": null,
       "grid_column": null,
       "grid_gap": null,
       "grid_row": null,
       "grid_template_areas": null,
       "grid_template_columns": null,
       "grid_template_rows": null,
       "height": null,
       "justify_content": null,
       "justify_items": null,
       "left": null,
       "margin": null,
       "max_height": null,
       "max_width": null,
       "min_height": null,
       "min_width": null,
       "object_fit": null,
       "object_position": null,
       "order": null,
       "overflow": null,
       "overflow_x": null,
       "overflow_y": null,
       "padding": null,
       "right": null,
       "top": null,
       "visibility": null,
       "width": null
      }
     },
     "4e810eb13e96444da67eaba266ff2aa8": {
      "model_module": "@jupyter-widgets/controls",
      "model_module_version": "1.5.0",
      "model_name": "HBoxModel",
      "state": {
       "_dom_classes": [],
       "_model_module": "@jupyter-widgets/controls",
       "_model_module_version": "1.5.0",
       "_model_name": "HBoxModel",
       "_view_count": null,
       "_view_module": "@jupyter-widgets/controls",
       "_view_module_version": "1.5.0",
       "_view_name": "HBoxView",
       "box_style": "",
       "children": [
        "IPY_MODEL_332323443f4c45ba8cdb3c83695d8d1d",
        "IPY_MODEL_f4ac5d4fe17f42ed9cf042f72f278460"
       ],
       "layout": "IPY_MODEL_12f264a873544599a216ade6a654850e"
      }
     },
     "68175484c91340ed8770312c4dbfc6de": {
      "model_module": "@jupyter-widgets/base",
      "model_module_version": "1.2.0",
      "model_name": "LayoutModel",
      "state": {
       "_model_module": "@jupyter-widgets/base",
       "_model_module_version": "1.2.0",
       "_model_name": "LayoutModel",
       "_view_count": null,
       "_view_module": "@jupyter-widgets/base",
       "_view_module_version": "1.2.0",
       "_view_name": "LayoutView",
       "align_content": null,
       "align_items": null,
       "align_self": null,
       "border": null,
       "bottom": null,
       "display": null,
       "flex": null,
       "flex_flow": null,
       "grid_area": null,
       "grid_auto_columns": null,
       "grid_auto_flow": null,
       "grid_auto_rows": null,
       "grid_column": null,
       "grid_gap": null,
       "grid_row": null,
       "grid_template_areas": null,
       "grid_template_columns": null,
       "grid_template_rows": null,
       "height": null,
       "justify_content": null,
       "justify_items": null,
       "left": null,
       "margin": null,
       "max_height": null,
       "max_width": null,
       "min_height": null,
       "min_width": null,
       "object_fit": null,
       "object_position": null,
       "order": null,
       "overflow": null,
       "overflow_x": null,
       "overflow_y": null,
       "padding": null,
       "right": null,
       "top": null,
       "visibility": null,
       "width": null
      }
     },
     "a666af376cec412283cb0de7c7477439": {
      "model_module": "@jupyter-widgets/controls",
      "model_module_version": "1.5.0",
      "model_name": "DescriptionStyleModel",
      "state": {
       "_model_module": "@jupyter-widgets/controls",
       "_model_module_version": "1.5.0",
       "_model_name": "DescriptionStyleModel",
       "_view_count": null,
       "_view_module": "@jupyter-widgets/base",
       "_view_module_version": "1.2.0",
       "_view_name": "StyleView",
       "description_width": ""
      }
     },
     "a9889288301044bab3bb69afa366edfe": {
      "model_module": "@jupyter-widgets/controls",
      "model_module_version": "1.5.0",
      "model_name": "DescriptionStyleModel",
      "state": {
       "_model_module": "@jupyter-widgets/controls",
       "_model_module_version": "1.5.0",
       "_model_name": "DescriptionStyleModel",
       "_view_count": null,
       "_view_module": "@jupyter-widgets/base",
       "_view_module_version": "1.2.0",
       "_view_name": "StyleView",
       "description_width": ""
      }
     },
     "b53a8df6a178432ba76e59428480d1e0": {
      "model_module": "@jupyter-widgets/base",
      "model_module_version": "1.2.0",
      "model_name": "LayoutModel",
      "state": {
       "_model_module": "@jupyter-widgets/base",
       "_model_module_version": "1.2.0",
       "_model_name": "LayoutModel",
       "_view_count": null,
       "_view_module": "@jupyter-widgets/base",
       "_view_module_version": "1.2.0",
       "_view_name": "LayoutView",
       "align_content": null,
       "align_items": null,
       "align_self": null,
       "border": null,
       "bottom": null,
       "display": null,
       "flex": null,
       "flex_flow": null,
       "grid_area": null,
       "grid_auto_columns": null,
       "grid_auto_flow": null,
       "grid_auto_rows": null,
       "grid_column": null,
       "grid_gap": null,
       "grid_row": null,
       "grid_template_areas": null,
       "grid_template_columns": null,
       "grid_template_rows": null,
       "height": null,
       "justify_content": null,
       "justify_items": null,
       "left": null,
       "margin": null,
       "max_height": null,
       "max_width": null,
       "min_height": null,
       "min_width": null,
       "object_fit": null,
       "object_position": null,
       "order": null,
       "overflow": null,
       "overflow_x": null,
       "overflow_y": null,
       "padding": null,
       "right": null,
       "top": null,
       "visibility": null,
       "width": null
      }
     },
     "b587fa617c634586b717018291d489ff": {
      "model_module": "@jupyter-widgets/base",
      "model_module_version": "1.2.0",
      "model_name": "LayoutModel",
      "state": {
       "_model_module": "@jupyter-widgets/base",
       "_model_module_version": "1.2.0",
       "_model_name": "LayoutModel",
       "_view_count": null,
       "_view_module": "@jupyter-widgets/base",
       "_view_module_version": "1.2.0",
       "_view_name": "LayoutView",
       "align_content": null,
       "align_items": null,
       "align_self": null,
       "border": null,
       "bottom": null,
       "display": null,
       "flex": null,
       "flex_flow": null,
       "grid_area": null,
       "grid_auto_columns": null,
       "grid_auto_flow": null,
       "grid_auto_rows": null,
       "grid_column": null,
       "grid_gap": null,
       "grid_row": null,
       "grid_template_areas": null,
       "grid_template_columns": null,
       "grid_template_rows": null,
       "height": null,
       "justify_content": null,
       "justify_items": null,
       "left": null,
       "margin": null,
       "max_height": null,
       "max_width": null,
       "min_height": null,
       "min_width": null,
       "object_fit": null,
       "object_position": null,
       "order": null,
       "overflow": null,
       "overflow_x": null,
       "overflow_y": null,
       "padding": null,
       "right": null,
       "top": null,
       "visibility": null,
       "width": null
      }
     },
     "eb6a3d6858b24224a594a3fd3087b34d": {
      "model_module": "@jupyter-widgets/controls",
      "model_module_version": "1.5.0",
      "model_name": "HBoxModel",
      "state": {
       "_dom_classes": [],
       "_model_module": "@jupyter-widgets/controls",
       "_model_module_version": "1.5.0",
       "_model_name": "HBoxModel",
       "_view_count": null,
       "_view_module": "@jupyter-widgets/controls",
       "_view_module_version": "1.5.0",
       "_view_name": "HBoxView",
       "box_style": "",
       "children": [
        "IPY_MODEL_ef11957f73f94275a5c26842efe069ee",
        "IPY_MODEL_fa51403826a747ba8caff8432bc192e6"
       ],
       "layout": "IPY_MODEL_b587fa617c634586b717018291d489ff"
      }
     },
     "eba7e3d8b2f4409b9faa8c7542f230ed": {
      "model_module": "@jupyter-widgets/base",
      "model_module_version": "1.2.0",
      "model_name": "LayoutModel",
      "state": {
       "_model_module": "@jupyter-widgets/base",
       "_model_module_version": "1.2.0",
       "_model_name": "LayoutModel",
       "_view_count": null,
       "_view_module": "@jupyter-widgets/base",
       "_view_module_version": "1.2.0",
       "_view_name": "LayoutView",
       "align_content": null,
       "align_items": null,
       "align_self": null,
       "border": null,
       "bottom": null,
       "display": null,
       "flex": null,
       "flex_flow": null,
       "grid_area": null,
       "grid_auto_columns": null,
       "grid_auto_flow": null,
       "grid_auto_rows": null,
       "grid_column": null,
       "grid_gap": null,
       "grid_row": null,
       "grid_template_areas": null,
       "grid_template_columns": null,
       "grid_template_rows": null,
       "height": null,
       "justify_content": null,
       "justify_items": null,
       "left": null,
       "margin": null,
       "max_height": null,
       "max_width": null,
       "min_height": null,
       "min_width": null,
       "object_fit": null,
       "object_position": null,
       "order": null,
       "overflow": null,
       "overflow_x": null,
       "overflow_y": null,
       "padding": null,
       "right": null,
       "top": null,
       "visibility": null,
       "width": null
      }
     },
     "ef11957f73f94275a5c26842efe069ee": {
      "model_module": "@jupyter-widgets/controls",
      "model_module_version": "1.5.0",
      "model_name": "IntProgressModel",
      "state": {
       "_dom_classes": [],
       "_model_module": "@jupyter-widgets/controls",
       "_model_module_version": "1.5.0",
       "_model_name": "IntProgressModel",
       "_view_count": null,
       "_view_module": "@jupyter-widgets/controls",
       "_view_module_version": "1.5.0",
       "_view_name": "ProgressView",
       "bar_style": "success",
       "description": "100%",
       "description_tooltip": null,
       "layout": "IPY_MODEL_68175484c91340ed8770312c4dbfc6de",
       "max": 100,
       "min": 0,
       "orientation": "horizontal",
       "style": "IPY_MODEL_f9c984567a5d4efcbece3eb032c17a49",
       "value": 100
      }
     },
     "f4ac5d4fe17f42ed9cf042f72f278460": {
      "model_module": "@jupyter-widgets/controls",
      "model_module_version": "1.5.0",
      "model_name": "HTMLModel",
      "state": {
       "_dom_classes": [],
       "_model_module": "@jupyter-widgets/controls",
       "_model_module_version": "1.5.0",
       "_model_name": "HTMLModel",
       "_view_count": null,
       "_view_module": "@jupyter-widgets/controls",
       "_view_module_version": "1.5.0",
       "_view_name": "HTMLView",
       "description": "",
       "description_tooltip": null,
       "layout": "IPY_MODEL_b53a8df6a178432ba76e59428480d1e0",
       "placeholder": "​",
       "style": "IPY_MODEL_a9889288301044bab3bb69afa366edfe",
       "value": " 5/5 [1:44:26&lt;00:00, 1253.34s/it]"
      }
     },
     "f9c984567a5d4efcbece3eb032c17a49": {
      "model_module": "@jupyter-widgets/controls",
      "model_module_version": "1.5.0",
      "model_name": "ProgressStyleModel",
      "state": {
       "_model_module": "@jupyter-widgets/controls",
       "_model_module_version": "1.5.0",
       "_model_name": "ProgressStyleModel",
       "_view_count": null,
       "_view_module": "@jupyter-widgets/base",
       "_view_module_version": "1.2.0",
       "_view_name": "StyleView",
       "bar_color": null,
       "description_width": "initial"
      }
     },
     "fa51403826a747ba8caff8432bc192e6": {
      "model_module": "@jupyter-widgets/controls",
      "model_module_version": "1.5.0",
      "model_name": "HTMLModel",
      "state": {
       "_dom_classes": [],
       "_model_module": "@jupyter-widgets/controls",
       "_model_module_version": "1.5.0",
       "_model_name": "HTMLModel",
       "_view_count": null,
       "_view_module": "@jupyter-widgets/controls",
       "_view_module_version": "1.5.0",
       "_view_name": "HTMLView",
       "description": "",
       "description_tooltip": null,
       "layout": "IPY_MODEL_eba7e3d8b2f4409b9faa8c7542f230ed",
       "placeholder": "​",
       "style": "IPY_MODEL_a666af376cec412283cb0de7c7477439",
       "value": " 100/100 [4:21:08&lt;00:00, 156.68s/it]"
      }
     }
    },
    "version_major": 2,
    "version_minor": 0
   }
  }
 },
 "nbformat": 4,
 "nbformat_minor": 1
}
