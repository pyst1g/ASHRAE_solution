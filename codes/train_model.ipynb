{
 "cells": [
  {
   "cell_type": "code",
   "execution_count": 1,
   "metadata": {
    "ExecuteTime": {
     "end_time": "2020-01-13T07:08:17.535509Z",
     "start_time": "2020-01-13T07:08:13.591824Z"
    }
   },
   "outputs": [],
   "source": [
    "#!/usr/bin/env python\n",
    "# coding: utf-8\n",
    "\n",
    "\n",
    "import numpy as np\n",
    "import pandas as pd\n",
    "\n",
    "import _pickle as cPickle\n",
    "import argparse\n",
    "from copy import deepcopy\n",
    "import japanize_matplotlib\n",
    "import lightgbm as lgb\n",
    "import matplotlib.pyplot as plt\n",
    "import pickle\n",
    "from sklearn.metrics import mean_squared_error\n",
    "import time\n",
    "from tqdm import tqdm"
   ]
  },
  {
   "cell_type": "code",
   "execution_count": 2,
   "metadata": {
    "ExecuteTime": {
     "end_time": "2020-01-13T07:08:17.548955Z",
     "start_time": "2020-01-13T07:08:17.539174Z"
    }
   },
   "outputs": [
    {
     "name": "stdout",
     "output_type": "stream",
     "text": [
      "Namespace(learning_rate=0.05, n_estimators=500, num_leaves=31, seed=1, test_file='test_fe.ftr', train_file='train_fe.ftr')\n"
     ]
    }
   ],
   "source": [
    "parser = argparse.ArgumentParser()\n",
    "arg = parser.add_argument\n",
    "arg('seed', type=int)\n",
    "arg('train_file', type=str)\n",
    "arg('test_file', type=str)\n",
    "arg('--learning_rate', type=float, default=0.05)\n",
    "arg('--num_leaves', type=int, default=31)\n",
    "arg('--n_estimators', type=int, default=500)\n",
    "args = parser.parse_args(args=['1','train_fe.ftr', 'test_fe.ftr'])\n",
    "\n",
    "print(args)"
   ]
  },
  {
   "cell_type": "code",
   "execution_count": 3,
   "metadata": {
    "ExecuteTime": {
     "end_time": "2020-01-13T07:08:19.861447Z",
     "start_time": "2020-01-13T07:08:17.550992Z"
    }
   },
   "outputs": [],
   "source": [
    "train_fe = pd.read_feather(f'../prepare_data/{args.train_file}')\n",
    "test_fe = pd.read_feather(f'../prepare_data/{args.test_file}')\n",
    "\n",
    "target_fe = train_fe['meter_reading']\n",
    "train_fe = train_fe.drop('meter_reading', axis=1)"
   ]
  },
  {
   "cell_type": "code",
   "execution_count": 4,
   "metadata": {
    "ExecuteTime": {
     "end_time": "2020-01-13T07:08:27.685183Z",
     "start_time": "2020-01-13T07:08:19.870928Z"
    },
    "code_folding": []
   },
   "outputs": [],
   "source": [
    "# drop_feature = ['day', 'hour', 'weekday', 'year_built_cat', 'wind_direction']\n",
    "# df_dropped = df[drop_feature].copy()\n",
    "# df = df.drop(drop_feature, axis=1)\n",
    "\n",
    "X_train = train_fe.query('20160115 <= timestamp < 20160601 & site_id != 0')\n",
    "X_valid = train_fe.query('20160901 <= timestamp < 20170101 & site_id != 0')\n",
    "X_test = test_fe\n",
    "\n",
    "y_train = target_fe.loc[X_train.index]\n",
    "y_valid = target_fe.loc[X_valid.index]\n",
    "# y_train = np.log1p(y_train)\n",
    "# y_valid = np.log1p(y_valid)\n",
    "\n",
    "X_train = X_train.drop('timestamp', axis=1)\n",
    "X_valid = X_valid.drop('timestamp', axis=1)\n",
    "X_test = X_test.drop('timestamp', axis=1)\n",
    "\n",
    "# print(X_train.shape)"
   ]
  },
  {
   "cell_type": "code",
   "execution_count": 5,
   "metadata": {
    "ExecuteTime": {
     "end_time": "2020-01-13T07:08:27.703713Z",
     "start_time": "2020-01-13T07:08:27.688842Z"
    }
   },
   "outputs": [],
   "source": [
    "def meter_fit(meter, X_train, X_valid, y_train, y_valid, n_estimators=20000, verbose=5000, random_state=823, **params):\n",
    "    model = lgb.LGBMRegressor(random_state=random_state, n_estimators=n_estimators, n_jobs=4, metric='rmse', **params)\n",
    "\n",
    "    X_train_m = X_train.query('meter == {}'.format(meter)).drop('meter', axis=1)\n",
    "    X_valid_m = X_valid.query('meter == {}'.format(meter)).drop('meter', axis=1)\n",
    "    y_train_m = y_train[X_train_m.index]\n",
    "    y_valid_m = y_valid[X_valid_m.index]\n",
    "    \n",
    "    g = X_valid_m.groupby('building_id')\n",
    "    eval_names = ['train', 'valid']\n",
    "    eval_set = [(X_train_m, y_train_m), (X_valid_m, y_valid_m)]\n",
    "#     print(sorted(X_valid_m['building_id'].unique()))\n",
    "    for i in tqdm(sorted(X_valid_m['building_id'].unique())):\n",
    "        set_evalX = g.get_group(i)\n",
    "        eval_set.append((set_evalX, y_valid_m.loc[set_evalX.index]))\n",
    "        eval_names.append(i)\n",
    "\n",
    "# building_idを抜いて実験する場合\n",
    "#     for X, y in eval_set:\n",
    "#         del X['building_id']\n",
    "        \n",
    "#     print(X_train_m.shape)\n",
    "    \n",
    "    model.fit(X_train_m, y_train_m , eval_set = eval_set,#[(X_train_m, y_train_m), (X_valid_m, y_valid_m)], \n",
    "                    eval_names=eval_names, verbose=verbose)#, early_stopping_rounds = 100)\n",
    "    return model\n",
    "\n",
    "\n",
    "def meter_fit_all(meter, X_train, y_train, n_estimators, random_state=823, **params):\n",
    "#     print(n_estimators)\n",
    "    X_train_m = X_train.query('meter == {}'.format(meter)).drop('meter', axis=1)\n",
    "    y_train_m = y_train[X_train_m.index]\n",
    "    \n",
    "    print(\"meter{}\".format(meter), end='')\n",
    "    model = lgb.LGBMRegressor(random_state=random_state, n_estimators=n_estimators, n_jobs=4, metric='rmse', **params)\n",
    "    model.fit(X_train_m,y_train_m,\n",
    "             eval_set = [(X_train_m, y_train_m)], \n",
    "                    verbose=10000)\n",
    "    print(' done')\n",
    "    return model"
   ]
  },
  {
   "cell_type": "code",
   "execution_count": 6,
   "metadata": {
    "ExecuteTime": {
     "end_time": "2020-01-13T07:08:27.708320Z",
     "start_time": "2020-01-13T07:08:27.705409Z"
    }
   },
   "outputs": [],
   "source": [
    "lgb_params = {\n",
    "#                     'boosting_type':'gbdt',\n",
    "                    'learning_rate':args.learning_rate, \n",
    "                    'num_leaves': args.num_leaves,\n",
    "#                     'max_depth':-1,\n",
    "                    'colsample_bytree': 0.8,\n",
    "                    'subsample_freq':1,\n",
    "                    'subsample':0.8,\n",
    "                }"
   ]
  },
  {
   "cell_type": "code",
   "execution_count": 7,
   "metadata": {
    "ExecuteTime": {
     "end_time": "2020-01-13T07:13:07.165790Z",
     "start_time": "2020-01-13T07:08:27.710380Z"
    }
   },
   "outputs": [
    {
     "name": "stdout",
     "output_type": "stream",
     "text": [
      "meter 3 start at Mon Jan 13 16:08:27 2020\n"
     ]
    },
    {
     "name": "stderr",
     "output_type": "stream",
     "text": [
      "100%|██████████| 142/142 [00:00<00:00, 350.01it/s]\n"
     ]
    },
    {
     "name": "stdout",
     "output_type": "stream",
     "text": [
      "(423155, 27)\n",
      "meter 2 start at Mon Jan 13 16:08:44 2020\n"
     ]
    },
    {
     "name": "stderr",
     "output_type": "stream",
     "text": [
      "100%|██████████| 324/324 [00:00<00:00, 344.57it/s]\n"
     ]
    },
    {
     "name": "stdout",
     "output_type": "stream",
     "text": [
      "(926869, 27)\n",
      "meter 1 start at Mon Jan 13 16:09:22 2020\n"
     ]
    },
    {
     "name": "stderr",
     "output_type": "stream",
     "text": [
      "100%|██████████| 474/474 [00:01<00:00, 381.97it/s]\n"
     ]
    },
    {
     "name": "stdout",
     "output_type": "stream",
     "text": [
      "(1306477, 27)\n",
      "meter 0 start at Mon Jan 13 16:10:16 2020\n"
     ]
    },
    {
     "name": "stderr",
     "output_type": "stream",
     "text": [
      "100%|██████████| 1302/1302 [00:03<00:00, 377.17it/s]\n"
     ]
    },
    {
     "name": "stdout",
     "output_type": "stream",
     "text": [
      "(3972529, 27)\n",
      "total rmse = 0.9055532007919442\n"
     ]
    }
   ],
   "source": [
    "# meter type毎に訓練\n",
    "models = dict()\n",
    "for i in [3,2,1,0]:\n",
    "    print('meter {} start at {}'.format(i,time.ctime()))\n",
    "    models[i] = meter_fit(i, X_train, X_valid, y_train, y_valid, random_state=args.seed, n_estimators=args.n_estimators, **lgb_params)\n",
    "    \n",
    "# # rmseの計算\n",
    "# meter_counts = X_valid['meter'].value_counts()\n",
    "# mse_score = 0\n",
    "# for i in [0,1,2,3]:\n",
    "#     mse_score += meter_counts[i] * (models[i].best_score_['valid']['rmse'] ** 2)\n",
    "# print('total rmse = {}'.format(np.sqrt(mse_score / meter_counts.sum())))"
   ]
  },
  {
   "cell_type": "code",
   "execution_count": 8,
   "metadata": {
    "ExecuteTime": {
     "end_time": "2020-01-13T07:13:10.406577Z",
     "start_time": "2020-01-13T07:13:07.167552Z"
    }
   },
   "outputs": [],
   "source": [
    "# save model\n",
    "\n",
    "save_name = '../model/model_use_{}_seed{}_leave{}_lr{}.pkl'.format(args.train_file.replace('.ftr', ''),args.seed, args.num_leaves, str(args.learning_rate).replace('.', ''))\n",
    "with open(save_name, 'wb') as f:\n",
    "    pickle.dump(models, f)"
   ]
  },
  {
   "cell_type": "code",
   "execution_count": 9,
   "metadata": {
    "ExecuteTime": {
     "end_time": "2020-01-13T07:13:11.576441Z",
     "start_time": "2020-01-13T07:13:10.409556Z"
    }
   },
   "outputs": [
    {
     "name": "stderr",
     "output_type": "stream",
     "text": [
      "100%|██████████| 1302/1302 [00:00<00:00, 19574.96it/s]\n",
      "100%|██████████| 474/474 [00:00<00:00, 14125.35it/s]\n",
      "100%|██████████| 324/324 [00:00<00:00, 14144.87it/s]\n",
      "100%|██████████| 142/142 [00:00<00:00, 16132.38it/s]\n"
     ]
    }
   ],
   "source": [
    "# 各building, meter毎の最良のiteration数\n",
    "best_iteration = dict()\n",
    "for meter in [0,1,2,3]:\n",
    "    best_iteration[meter] = dict()\n",
    "#     for i in range(1448):\n",
    "#         best_iteration[meter][i] = 200\n",
    "    for i in tqdm(sorted(X_valid.query('meter == {}'.format(meter))['building_id'].unique())):\n",
    "        best_iteration[meter][i] = max(20, np.argmin(np.array(models[meter].evals_result_[i]['rmse'])) + 1)\n",
    "#         best_iteration[meter][i] = np.argmin(np.array(models[meter].evals_result_[i]['rmse'])) + 1"
   ]
  },
  {
   "cell_type": "code",
   "execution_count": 10,
   "metadata": {
    "ExecuteTime": {
     "end_time": "2020-01-13T07:13:12.929336Z",
     "start_time": "2020-01-13T07:13:11.578656Z"
    }
   },
   "outputs": [
    {
     "name": "stdout",
     "output_type": "stream",
     "text": [
      "total rmse = 0.8246214572204994\n",
      "{0: 0.38341327907541173, 1: 1.129476359756825, 2: 1.1633479876993276, 3: 1.538544389057388}\n",
      "meter0 best_valid_iteration=290\n",
      "meter0 best_valid_score=1.4293735361286997\n",
      "meter1 best_valid_iteration=138\n",
      "meter1 best_valid_score=2.209060103218956\n",
      "meter2 best_valid_iteration=146\n",
      "meter2 best_valid_score=2.2890135516877868\n",
      "meter3 best_valid_iteration=208\n",
      "meter3 best_valid_score=2.675532790285684\n"
     ]
    },
    {
     "data": {
      "image/png": "[encoded data removed]",
      "text/plain": [
       "<Figure size 432x288 with 4 Axes>"
      ]
     },
     "metadata": {
      "needs_background": "light"
     },
     "output_type": "display_data"
    }
   ],
   "source": [
    "# best_scores = dict()\n",
    "# for meter in [0,1,2,3]:\n",
    "#     best_scores[meter] = 0\n",
    "#     meter_size = X_valid.query('meter=={}'.format(meter)).groupby('building_id').size()\n",
    "#     meter_size = meter_size[meter_size!=0]\n",
    "#     for buildingID, cnt in meter_size.items():\n",
    "#         best_scores[meter] += cnt * (min(models[meter].evals_result_[buildingID]['rmse']) ** 2)\n",
    "#     best_scores[meter] = np.sqrt(best_scores[meter] / meter_size.sum())\n",
    "    \n",
    "\n",
    "# # rmseの計算\n",
    "# meter_counts = X_valid['meter'].value_counts()\n",
    "# mse_score = 0\n",
    "# for i in [0,1,2,3]:\n",
    "#     mse_score += meter_counts[i] * (best_scores[i] ** 2)\n",
    "# print('total rmse = {}'.format(np.sqrt(mse_score / meter_counts.sum())))\n",
    "# print(best_scores)\n",
    "# for meter in [0,1,2,3]:\n",
    "#     print('meter{} best_valid_iteration={}'.format(meter,np.argmin(np.array(models[meter].evals_result_['valid']['rmse']))+1))\n",
    "#     print('meter{} best_valid_score={}'.format(meter,np.min(np.array(models[meter].evals_result_['valid']['rmse'])+1)))\n",
    "#     plt.subplot(2,2,meter+1)\n",
    "#     plt.hist(best_iteration[meter].values())\n",
    "# plt.show()"
   ]
  },
  {
   "cell_type": "code",
   "execution_count": 11,
   "metadata": {
    "ExecuteTime": {
     "end_time": "2020-01-13T07:13:29.179233Z",
     "start_time": "2020-01-13T07:13:12.930797Z"
    }
   },
   "outputs": [],
   "source": [
    "del_list = [list(), list(), list(), list()]\n",
    "for meter in [0,1,2,3]:\n",
    "    for buildingID, itr in best_iteration[meter].items():\n",
    "        if itr<=20:\n",
    "            del_list[meter].append(buildingID)\n",
    "        if itr<=100:\n",
    "            best_iteration[meter][buildingID] = 100\n",
    "#         if itr>=int(models[0].n_estimators * 0.98):\n",
    "#             best_iteration[meter][buildingID] = models[0].n_estimators\n",
    "            \n",
    "new_train_fe = train_fe.copy()\n",
    "new_train_fe['meter_reading'] = target_fe\n",
    "for meter in [0,1,2,3]:\n",
    "    new_train_fe = new_train_fe.query('~(meter=={} & building_id == {} & timestamp<20160601)'.format(meter, del_list[meter]))\n",
    "\n",
    "new_target = new_train_fe['meter_reading']\n",
    "new_train_fe = new_train_fe.drop('meter_reading', axis=1)"
   ]
  },
  {
   "cell_type": "code",
   "execution_count": 12,
   "metadata": {
    "ExecuteTime": {
     "end_time": "2020-01-13T07:13:29.185645Z",
     "start_time": "2020-01-13T07:13:29.181323Z"
    }
   },
   "outputs": [],
   "source": [
    "for meter in [0,1,2,3]:\n",
    "    for i in range(1448):\n",
    "        if i not in best_iteration[meter]:\n",
    "            best_iteration[meter][i] = 200"
   ]
  },
  {
   "cell_type": "code",
   "execution_count": 13,
   "metadata": {
    "ExecuteTime": {
     "end_time": "2020-01-13T07:19:45.160912Z",
     "start_time": "2020-01-13T07:13:29.187045Z"
    },
    "scrolled": true
   },
   "outputs": [
    {
     "name": "stdout",
     "output_type": "stream",
     "text": [
      "meter 3 start at Mon Jan 13 16:13:29 2020\n",
      "500\n",
      "meter3 done\n",
      "meter 2 start at Mon Jan 13 16:13:50 2020\n",
      "500\n",
      "meter2 done\n",
      "meter 1 start at Mon Jan 13 16:14:37 2020\n",
      "500\n",
      "meter1 done\n",
      "meter 0 start at Mon Jan 13 16:15:51 2020\n",
      "500\n",
      "meter0 done\n"
     ]
    }
   ],
   "source": [
    "# meter type毎に訓練(全てのデータを使う)\n",
    "models_all = dict()\n",
    "for i in [3, 2, 1, 0]:\n",
    "    print('meter {} start at {}'.format(i,time.ctime()))\n",
    "    models_all[i] = meter_fit_all(i, new_train_fe.drop('timestamp', axis=1), new_target, random_state=args.seed, n_estimators=args.n_estimators, **lgb_params)\n",
    "#     models_all[i] = meter_fit_all(i, train_fe.drop('timestamp', axis=1), target_fe, random_state=args.seed, n_estimators=args.n_estimators, **lgb_params)"
   ]
  },
  {
   "cell_type": "code",
   "execution_count": 14,
   "metadata": {
    "ExecuteTime": {
     "end_time": "2020-01-13T07:19:45.295784Z",
     "start_time": "2020-01-13T07:19:45.163043Z"
    }
   },
   "outputs": [],
   "source": [
    "#save model\n",
    "\n",
    "save_name = '../model/model_all_use_{}_seed{}_leave{}_lr{}.pkl'.format(args.train_file.replace('.ftr', ''),args.seed, args.num_leaves, str(args.learning_rate).replace('.', ''))\n",
    "with open(save_name, 'wb') as f:\n",
    "    pickle.dump(models_all, f)"
   ]
  }
 ],
 "metadata": {
  "kernelspec": {
   "display_name": "Python 3",
   "language": "python",
   "name": "python3"
  },
  "language_info": {
   "codemirror_mode": {
    "name": "ipython",
    "version": 3
   },
   "file_extension": ".py",
   "mimetype": "text/x-python",
   "name": "python",
   "nbconvert_exporter": "python",
   "pygments_lexer": "ipython3",
   "version": "3.6.8"
  }
 },
 "nbformat": 4,
 "nbformat_minor": 2
}
