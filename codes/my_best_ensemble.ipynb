{
 "cells": [
  {
   "cell_type": "code",
   "execution_count": 1,
   "metadata": {
    "ExecuteTime": {
     "end_time": "2020-01-10T05:54:00.811636Z",
     "start_time": "2020-01-10T05:53:51.502970Z"
    },
    "scrolled": true
   },
   "outputs": [],
   "source": [
    "import numpy as np\n",
    "import pandas as pd\n",
    "\n",
    "from copy import deepcopy\n",
    "from functools import partial\n",
    "import matplotlib.pyplot as plt\n",
    "import optuna\n",
    "import pickle\n",
    "from sklearn.metrics import mean_squared_error\n",
    "from tqdm import tqdm"
   ]
  },
  {
   "cell_type": "code",
   "execution_count": 2,
   "metadata": {
    "ExecuteTime": {
     "end_time": "2020-01-10T05:54:34.341906Z",
     "start_time": "2020-01-10T05:54:00.814217Z"
    },
    "scrolled": true
   },
   "outputs": [],
   "source": [
    "submission_s1 = pd.read_csv('../output/submission_5_95_hokan_cleaning_100000tree_seed1.csv')\n",
    "submission_s2 = pd.read_csv('../output/submission_5_95_hokan_cleaning_100000tree_seed2.csv')\n",
    "submission_s3 = pd.read_csv('../output/submission_5_95_hokan_cleaning_100000tree_seed3.csv')\n",
    "submission1 = (submission_s1['meter_reading'] + submission_s2['meter_reading'] + submission_s3['meter_reading']) /3\n",
    "del submission_s1, submission_s2, submission_s3"
   ]
  },
  {
   "cell_type": "code",
   "execution_count": 3,
   "metadata": {
    "ExecuteTime": {
     "end_time": "2020-01-08T05:46:04.818599Z",
     "start_time": "2020-01-08T05:45:32.033299Z"
    }
   },
   "outputs": [],
   "source": [
    "submission_075_s1 = pd.read_csv('../output/submission_5_95_hokan_cleaning_100000tree_seed1_mul075.csv')\n",
    "submission_075_s2 = pd.read_csv('../output/submission_5_95_hokan_cleaning_100000tree_seed2_mul075.csv')\n",
    "submission_075_s3 = pd.read_csv('../output/submission_5_95_hokan_cleaning_100000tree_seed3_mul075.csv')\n",
    "submission2 = (submission_075_s1['meter_reading'] + submission_075_s2['meter_reading'] + submission_075_s3['meter_reading']) /3\n",
    "del submission_075_s1, submission_075_s2, submission_075_s3"
   ]
  },
  {
   "cell_type": "code",
   "execution_count": 4,
   "metadata": {
    "ExecuteTime": {
     "end_time": "2020-01-08T05:46:37.728976Z",
     "start_time": "2020-01-08T05:46:04.820657Z"
    }
   },
   "outputs": [],
   "source": [
    "submission_TE_s1 = pd.read_csv('../output/submission_TE_50000tree_seed1_mul075.csv')\n",
    "submission_TE_s2 = pd.read_csv('../output/submission_TE_50000tree_seed2_mul075.csv')\n",
    "submission_TE_s3 = pd.read_csv('../output/submission_TE_50000tree_seed3_mul075.csv')\n",
    "submission3 = (submission_TE_s1['meter_reading'] + submission_TE_s2['meter_reading'] + submission_TE_s3['meter_reading']) / 3\n",
    "del submission_TE_s1, submission_TE_s2, submission_TE_s3"
   ]
  },
  {
   "cell_type": "code",
   "execution_count": 5,
   "metadata": {
    "ExecuteTime": {
     "end_time": "2020-01-08T05:47:10.620278Z",
     "start_time": "2020-01-08T05:46:37.730940Z"
    }
   },
   "outputs": [],
   "source": [
    "submission_TE2_s1 = pd.read_csv('../output/submission_TE2_50000tree_seed1_mul075.csv')\n",
    "submission_TE2_s2 = pd.read_csv('../output/submission_TE2_50000tree_seed2_mul075.csv')\n",
    "submission_TE2_s3 = pd.read_csv('../output/submission_TE2_50000tree_seed3_mul075.csv')\n",
    "submission4 = (submission_TE2_s1['meter_reading'] + submission_TE2_s2['meter_reading'] + submission_TE2_s3['meter_reading']) / 3\n",
    "del submission_TE2_s1, submission_TE2_s2, submission_TE2_s3"
   ]
  },
  {
   "cell_type": "code",
   "execution_count": 6,
   "metadata": {
    "ExecuteTime": {
     "end_time": "2020-01-08T05:47:21.598134Z",
     "start_time": "2020-01-08T05:47:10.625699Z"
    }
   },
   "outputs": [],
   "source": [
    "submission_02_s1 = pd.read_csv('../output/submission_5_95_hokan_cleaning_100000tree_seed1_mul02.csv')\n",
    "submission5 = submission_02_s1['meter_reading']\n",
    "del submission_02_s1"
   ]
  },
  {
   "cell_type": "code",
   "execution_count": 7,
   "metadata": {
    "ExecuteTime": {
     "end_time": "2020-01-08T05:48:15.727679Z",
     "start_time": "2020-01-08T05:47:21.600718Z"
    }
   },
   "outputs": [],
   "source": [
    "submission6 = pd.read_csv('../output/submission_hokan_cleaning_100000tree_mul2.csv')\n",
    "submission7  = pd.read_csv('../output/submission_leave7_300000tree.csv')\n",
    "submission8  = pd.read_csv('../output/submission_5_95_hokan_cleaning_100000tree.csv')\n",
    "submission9 = pd.read_csv('../output/submission_for_run.csv')\n",
    "submission10 = pd.read_csv('../output/submission_5_95_hokan_cleaning_400000tree_lr001_mul075.csv')"
   ]
  },
  {
   "cell_type": "code",
   "execution_count": 8,
   "metadata": {
    "ExecuteTime": {
     "end_time": "2020-01-08T06:00:04.401131Z",
     "start_time": "2020-01-08T05:48:15.729890Z"
    }
   },
   "outputs": [],
   "source": [
    "submission11 = pd.read_csv('../output/fe2_lgbm.csv')\n",
    "submission12 = pd.read_csv('../output/submission_tomioka.csv')\n",
    "submission13 = pd.read_csv('../output/submission_half_and_half.csv')\n",
    "submission14 = pd.read_csv('../output/submission_distill.csv')"
   ]
  },
  {
   "cell_type": "code",
   "execution_count": 9,
   "metadata": {
    "ExecuteTime": {
     "end_time": "2020-01-08T06:01:46.252412Z",
     "start_time": "2020-01-08T06:00:04.402528Z"
    }
   },
   "outputs": [],
   "source": [
    "# leaked_df = pd.read_csv('../input/leaked_data_all.csv', parse_dates=['timestamp'])\n",
    "with open('../input/leak_data_drop_bad_rows2.pkl', 'rb') as f:\n",
    "    leaked_df = pickle.load(f).rename(columns={'meter_reading': 'leaked_meter_reading'})\n",
    "\n",
    "# leaked_df = pd.read_feather('../input/leak_data.feather').rename(columns={'meter_reading': 'leaked_meter_reading'})\n",
    "leaked_df = leaked_df[['building_id','meter','timestamp', 'leaked_meter_reading']]\n",
    "leaked_df = leaked_df.query('timestamp>=20170101')\n",
    "\n",
    "with open('../input/building_metadata_raw.pkl', 'rb') as f:\n",
    "    building_meta = pickle.load(f)\n",
    "\n",
    "leaked_df = leaked_df.merge(building_meta[['building_id', 'site_id']], on='building_id', how='left')\n",
    "\n",
    "leaked_df = leaked_df.query('~(meter==0 & site_id==0)')\n",
    "# leaked_df = leaked_df.query('site_id==[2,4,15]')\n",
    "# leaked_df = leaked_df.query('105<=building_id<=564 | 656<=building_id')\n",
    "\n",
    "with open('../input/test_raw.pkl', 'rb') as f:\n",
    "    test = pickle.load(f)"
   ]
  },
  {
   "cell_type": "code",
   "execution_count": 10,
   "metadata": {
    "ExecuteTime": {
     "end_time": "2020-01-08T06:01:48.280344Z",
     "start_time": "2020-01-08T06:01:46.254156Z"
    }
   },
   "outputs": [],
   "source": [
    "test['pred1'] = submission1.values\n",
    "test['pred2'] = submission2.values\n",
    "test['pred3'] = submission3.values\n",
    "test['pred4'] = submission4.values\n",
    "test['pred5'] = submission5.values\n",
    "test['pred6'] = submission6['meter_reading']\n",
    "test['pred7'] = submission7['meter_reading']\n",
    "test['pred8'] = submission8['meter_reading']\n",
    "test['pred9'] = submission9['meter_reading']\n",
    "test['pred10'] = submission10['meter_reading']\n",
    "test['pred11'] = submission11['meter_reading']\n",
    "test['pred12'] = submission12['meter_reading']\n",
    "test['pred13'] = submission13['meter_reading']\n",
    "test['pred14'] = submission14['meter_reading']\n",
    "\n",
    "del submission6, submission7, submission8, submission9, submission10, submission11, submission12, submission13, submission14"
   ]
  },
  {
   "cell_type": "code",
   "execution_count": 11,
   "metadata": {
    "ExecuteTime": {
     "end_time": "2020-01-08T06:01:48.284063Z",
     "start_time": "2020-01-08T06:01:48.281799Z"
    }
   },
   "outputs": [],
   "source": [
    "# test['pred11'] = np.exp(1) - 1"
   ]
  },
  {
   "cell_type": "code",
   "execution_count": 12,
   "metadata": {
    "ExecuteTime": {
     "end_time": "2020-01-08T06:01:48.343200Z",
     "start_time": "2020-01-08T06:01:48.285292Z"
    }
   },
   "outputs": [],
   "source": [
    "# pred_sorted1 = pd.DataFrame(np.sort(test.loc[:,'pred1':'pred13'].values, axis=1), columns=[f'pred{i}' for i in range(14, 27)])\n",
    "# pred_sorted2 = pd.DataFrame(np.sort(test.loc[:,'pred1':'pred10'].values, axis=1), columns=[f'pred{i}' for i in range(27, 37)])\n",
    "\n",
    "# test = pd.concat([test, pred_sorted1, pred_sorted2], axis=1)\n",
    "\n",
    "# del pred_sorted1, pred_sorted2"
   ]
  },
  {
   "cell_type": "code",
   "execution_count": 13,
   "metadata": {
    "ExecuteTime": {
     "end_time": "2020-01-08T06:02:10.368661Z",
     "start_time": "2020-01-08T06:01:48.344370Z"
    }
   },
   "outputs": [],
   "source": [
    "test = test.merge(leaked_df, on=['building_id', 'meter', 'timestamp'], how='left')\n",
    "N = test.columns.str.startswith('pred').sum()"
   ]
  },
  {
   "cell_type": "code",
   "execution_count": 14,
   "metadata": {
    "ExecuteTime": {
     "end_time": "2020-01-08T06:02:10.373101Z",
     "start_time": "2020-01-08T06:02:10.370707Z"
    }
   },
   "outputs": [],
   "source": [
    "# with open('../input/building_metadata_raw.pkl', 'rb') as f:\n",
    "#     building_meta = pickle.load(f)\n",
    "\n",
    "\n",
    "# test = test.merge(building_meta[['building_id', 'site_id']], on='building_id', how='left')"
   ]
  },
  {
   "cell_type": "code",
   "execution_count": 15,
   "metadata": {
    "ExecuteTime": {
     "end_time": "2020-01-08T06:02:19.827887Z",
     "start_time": "2020-01-08T06:02:10.374368Z"
    }
   },
   "outputs": [],
   "source": [
    "test_sub = test.copy()\n",
    "test = test[~test['leaked_meter_reading'].isnull()]\n",
    "test2017 = test.query('timestamp<20180101')\n",
    "test2018 = test.query('20180101<=timestamp')"
   ]
  },
  {
   "cell_type": "code",
   "execution_count": 16,
   "metadata": {
    "ExecuteTime": {
     "end_time": "2020-01-08T06:02:30.302049Z",
     "start_time": "2020-01-08T06:02:19.829967Z"
    },
    "code_folding": [
     5,
     10
    ]
   },
   "outputs": [
    {
     "name": "stdout",
     "output_type": "stream",
     "text": [
      "1 1.05707431984265\n",
      "2 1.0558796429275272\n",
      "3 1.0510705844554578\n",
      "4 1.0527115582309234\n",
      "5 1.085017795223617\n",
      "6 1.062084119954559\n",
      "7 1.089608889667971\n",
      "8 1.060677174029206\n",
      "9 1.081500810935177\n",
      "10 1.0631875913803086\n",
      "11 1.0670692750633455\n",
      "12 1.074835895542593\n",
      "13 1.0831985090552576\n",
      "14 1.0827872912557106\n",
      "\n",
      "1 0.9105108359275668\n",
      "2 0.9103696794240971\n",
      "3 0.9012662488544053\n",
      "4 0.9044416426785011\n",
      "5 0.958620671178696\n",
      "6 0.9083304918286321\n",
      "7 0.9520295444421947\n",
      "8 0.9081599079972706\n",
      "9 0.923402758171367\n",
      "10 0.9309174130161622\n",
      "11 0.9375401388043237\n",
      "12 0.9523766285512328\n",
      "13 0.9460503393895124\n",
      "14 0.9524520973724483\n",
      "\n",
      "1 0.9863821696123254\n",
      "2 0.9856780561923182\n",
      "3 0.9788988915843845\n",
      "4 0.981243193567017\n",
      "5 1.0236543886863338\n",
      "6 0.9880595373342751\n",
      "7 1.0230066442069852\n",
      "8 0.9872263683022606\n",
      "9 1.0054170589340188\n",
      "10 0.9991207012008274\n",
      "11 1.0042746771869266\n",
      "12 1.0153402306340538\n",
      "13 1.0168117958050467\n",
      "14 1.0195831959447215\n"
     ]
    }
   ],
   "source": [
    "for i in range(1,N+1):\n",
    "    print(i, np.sqrt(mean_squared_error(np.log1p(test2018['leaked_meter_reading']), np.log1p(test2018[f'pred{i}']))))\n",
    "\n",
    "print()\n",
    "\n",
    "for i in range(1,N+1):\n",
    "    print(i, np.sqrt(mean_squared_error(np.log1p(test2017['leaked_meter_reading']), np.log1p(test2017[f'pred{i}']))))\n",
    "\n",
    "print()\n",
    "    \n",
    "for i in range(1,N+1):\n",
    "    print(i, np.sqrt(mean_squared_error(np.log1p(test['leaked_meter_reading']), np.log1p(test[f'pred{i}']))))\n"
   ]
  },
  {
   "cell_type": "code",
   "execution_count": 20,
   "metadata": {
    "ExecuteTime": {
     "end_time": "2019-12-19T05:34:11.891605Z",
     "start_time": "2019-12-19T05:34:09.254808Z"
    },
    "code_folding": [],
    "scrolled": true
   },
   "outputs": [
    {
     "name": "stdout",
     "output_type": "stream",
     "text": [
      "1 1.0757427876594083\n",
      "2 1.0676847649662704\n",
      "3 1.0771935476110943\n",
      "4 1.076498642841301\n",
      "5 1.0347828208205818\n",
      "6 1.0949802215560984\n",
      "7 1.0761297040460147\n",
      "8 1.0916569067281785\n",
      "9 1.0984362592915258\n",
      "10 1.0607135807932335\n",
      "11 3.651170459130679\n",
      "\n",
      "1 0.7941939381872285\n",
      "2 0.7834770191804799\n",
      "3 0.7928290071315696\n",
      "4 0.7947646177287292\n",
      "5 0.7421142944911797\n",
      "6 0.8184734097791797\n",
      "7 0.7939469230402673\n",
      "8 0.813513235264502\n",
      "9 0.8211185175276395\n",
      "10 0.7754211863433329\n",
      "11 3.684592577172206\n"
     ]
    }
   ],
   "source": [
    "sid = 1\n",
    "for i in range(1,N+1):\n",
    "    print(i, np.sqrt(mean_squared_error(np.log1p(test2018.query(f'meter==0 & site_id=={sid}')['leaked_meter_reading']), \n",
    "                                        np.log1p(test2018.query(f'meter==0 & site_id=={sid}')[f'pred{i}']))))\n",
    "\n",
    "print()\n",
    "\n",
    "for i in range(1,N+1):\n",
    "    print(i, np.sqrt(mean_squared_error(np.log1p(test2017.query(f'meter==0 & site_id=={sid}')['leaked_meter_reading']), \n",
    "                                        np.log1p(test2017.query(f'meter==0 & site_id=={sid}')[f'pred{i}']))))\n",
    "       "
   ]
  },
  {
   "cell_type": "code",
   "execution_count": 17,
   "metadata": {
    "ExecuteTime": {
     "end_time": "2020-01-08T06:02:30.307274Z",
     "start_time": "2020-01-08T06:02:30.304136Z"
    }
   },
   "outputs": [],
   "source": [
    "focus_df = test2018"
   ]
  },
  {
   "cell_type": "code",
   "execution_count": 18,
   "metadata": {
    "ExecuteTime": {
     "end_time": "2020-01-08T06:02:30.378245Z",
     "start_time": "2020-01-08T06:02:30.308878Z"
    }
   },
   "outputs": [],
   "source": [
    "def preproceeding(submission, N):\n",
    "    submission.loc[:,'pred1':'leaked_meter_reading'] = np.log1p(submission.loc[:,'pred1':'leaked_meter_reading'])\n",
    "    g = submission.groupby('meter')\n",
    "    sub_sub = [dict(), dict(), dict(), dict()]\n",
    "    leak_sub = [dict(), dict(), dict(), dict()]\n",
    "    leak_leak = [0,0,0,0]\n",
    "    \n",
    "    for meter in [3,2,1,0]:\n",
    "        for i in tqdm(range(1,N+1)):\n",
    "            leak_sub[meter][i] = sum(-2 * g.get_group(meter)['leaked_meter_reading'] * g.get_group(meter)[f'pred{i}'])\n",
    "            for j in range(1,N+1):\n",
    "                if i > j: \n",
    "                    sub_sub[meter][(i,j)] = sub_sub[meter][(j,i)]\n",
    "                else:\n",
    "                    sub_sub[meter][(i,j)] = sum(g.get_group(meter)[f'pred{i}'] * g.get_group(meter)[f'pred{j}'])\n",
    "        \n",
    "        leak_leak[meter] = (sum(g.get_group(meter)['leaked_meter_reading'] ** 2))\n",
    "    \n",
    "    return sub_sub, leak_sub, leak_leak"
   ]
  },
  {
   "cell_type": "code",
   "execution_count": 19,
   "metadata": {
    "ExecuteTime": {
     "end_time": "2020-01-08T06:04:49.576070Z",
     "start_time": "2020-01-08T06:02:30.379895Z"
    },
    "scrolled": true
   },
   "outputs": [
    {
     "name": "stderr",
     "output_type": "stream",
     "text": [
      "100%|██████████| 14/14 [00:14<00:00,  1.07s/it]\n",
      "100%|██████████| 14/14 [00:09<00:00,  1.43it/s]\n",
      "100%|██████████| 14/14 [00:39<00:00,  2.84s/it]\n",
      "100%|██████████| 14/14 [01:11<00:00,  5.11s/it]\n"
     ]
    }
   ],
   "source": [
    "sub_sub, leak_sub, leak_leak = preproceeding(focus_df.copy(), N)"
   ]
  },
  {
   "cell_type": "code",
   "execution_count": 20,
   "metadata": {
    "ExecuteTime": {
     "end_time": "2020-01-08T06:04:49.586284Z",
     "start_time": "2020-01-08T06:04:49.578001Z"
    }
   },
   "outputs": [],
   "source": [
    "with open('../output/sub_sub1219_reproduce.pkl', 'wb') as f:\n",
    "    pickle.dump(sub_sub, f)"
   ]
  },
  {
   "cell_type": "code",
   "execution_count": 21,
   "metadata": {
    "ExecuteTime": {
     "end_time": "2020-01-08T06:04:49.656287Z",
     "start_time": "2020-01-08T06:04:49.589304Z"
    }
   },
   "outputs": [],
   "source": [
    "with open('../output/leak_sub1219_reproduce.pkl', 'wb') as f:\n",
    "    pickle.dump(leak_sub, f)"
   ]
  },
  {
   "cell_type": "code",
   "execution_count": 22,
   "metadata": {
    "ExecuteTime": {
     "end_time": "2020-01-08T06:04:49.714359Z",
     "start_time": "2020-01-08T06:04:49.659163Z"
    }
   },
   "outputs": [],
   "source": [
    "with open('../output/leak_leak1219_reproduce.pkl', 'wb') as f:\n",
    "    pickle.dump(leak_leak, f)"
   ]
  },
  {
   "cell_type": "code",
   "execution_count": 23,
   "metadata": {
    "ExecuteTime": {
     "end_time": "2020-01-08T06:04:49.772199Z",
     "start_time": "2020-01-08T06:04:49.717368Z"
    }
   },
   "outputs": [],
   "source": [
    "count_itr = 0\n",
    "def optimization(meter, sub_sub, leak_sub, leak_leak, length, W):\n",
    "    \n",
    "#     global count_itr\n",
    "#     if count_itr%1000 == 0: print(count_itr, end=' ')\n",
    "#     count_itr += 1\n",
    "    \n",
    "    loss_total = 0\n",
    "\n",
    "    for i, a in enumerate(W, 1):\n",
    "        for j, b in enumerate(W, 1):\n",
    "            loss_total += a * b * sub_sub[meter][(i, j)]\n",
    "\n",
    "    for i, a in enumerate(W, 1):\n",
    "        loss_total += leak_sub[meter][i] * a\n",
    "\n",
    "    loss_total += leak_leak[meter]\n",
    "    \n",
    "    return np.sqrt(loss_total / length)"
   ]
  },
  {
   "cell_type": "code",
   "execution_count": 24,
   "metadata": {
    "ExecuteTime": {
     "end_time": "2020-01-08T06:05:50.584326Z",
     "start_time": "2020-01-08T06:04:49.775294Z"
    },
    "scrolled": true
   },
   "outputs": [
    {
     "name": "stderr",
     "output_type": "stream",
     "text": [
      "100%|██████████| 100000/100000 [00:14<00:00, 6785.89it/s]\n",
      "100%|██████████| 100000/100000 [00:15<00:00, 6606.88it/s]\n",
      "100%|██████████| 100000/100000 [00:14<00:00, 6749.47it/s]\n",
      "100%|██████████| 100000/100000 [00:15<00:00, 6606.05it/s]\n"
     ]
    }
   ],
   "source": [
    "np.random.seed(1)\n",
    "\n",
    "score = [list(), list(), list(), list()]\n",
    "weight = [list(), list(), list(), list()]\n",
    "\n",
    "for meter in [0,1,2,3]:\n",
    "    f = partial(optimization, meter, sub_sub, leak_sub, leak_leak, len(focus_df.query(f'meter=={meter}')))\n",
    "    for i in tqdm(range(100000)):\n",
    "        W = np.random.rand(N)\n",
    "\n",
    "        to_zero = np.arange(N)\n",
    "        np.random.shuffle(to_zero)\n",
    "\n",
    "        W[to_zero[:np.random.randint(10)]] = 0\n",
    "\n",
    "        W /= W.sum()\n",
    "        W *= np.random.rand() * 0.3 + 0.8\n",
    "        score[meter].append(f(W))\n",
    "        weight[meter].append(W)\n",
    "    score[meter] = np.array(score[meter])\n",
    "    weight[meter] = np.array(weight[meter])"
   ]
  },
  {
   "cell_type": "code",
   "execution_count": 29,
   "metadata": {
    "ExecuteTime": {
     "end_time": "2019-12-19T05:43:38.476169Z",
     "start_time": "2019-12-19T05:43:38.473974Z"
    }
   },
   "outputs": [],
   "source": [
    "# 今までのbest_score\n",
    "# 0\n",
    "# 0.6457341965029569 # 2,4,15\n",
    "# 0.7670864405850898 # 1,2,15\n",
    "\n",
    "# 1\n",
    "# 1.1028821246797627\n",
    "\n",
    "# 2\n",
    "# 0.9266132278805228\n",
    "\n",
    "# 3\n",
    "# 1.1595900581550331\n",
    "\n",
    "\n",
    "# new leak set\n",
    "# 0.7229769339789924\n",
    "# 1.4360871220006104\n",
    "# 0.9269688704973097\n",
    "# 1.1567657302973289\n",
    "\n",
    "# 0.723733378801817\n",
    "# 1.4325472242980108\n",
    "# 0.9270139246582472\n",
    "# 1.1560000215450374\n",
    "\n",
    "# 0.7232916263657445\n",
    "# 1.4257850382841468\n",
    "# 0.926444086189883\n",
    "# 1.1553662804048155"
   ]
  },
  {
   "cell_type": "code",
   "execution_count": 25,
   "metadata": {
    "ExecuteTime": {
     "end_time": "2020-01-08T06:05:50.605806Z",
     "start_time": "2020-01-08T06:05:50.587392Z"
    }
   },
   "outputs": [
    {
     "name": "stdout",
     "output_type": "stream",
     "text": [
      "0.7236473125816902\n",
      "0.9828885886233922\n",
      "\n",
      "1.4309527962488617\n",
      "0.9567377754250824\n",
      "\n",
      "0.9266339383485149\n",
      "1.0064676416257325\n",
      "\n",
      "1.1566428189821238\n",
      "0.9302832330250349\n",
      "\n"
     ]
    }
   ],
   "source": [
    "for meter in [0,1,2,3]:\n",
    "    print(score[meter].min())\n",
    "    print(weight[meter][score[meter].argmin()].sum())\n",
    "    print()"
   ]
  },
  {
   "cell_type": "code",
   "execution_count": 30,
   "metadata": {
    "ExecuteTime": {
     "end_time": "2019-12-19T05:43:38.503666Z",
     "start_time": "2019-12-19T05:43:38.477319Z"
    }
   },
   "outputs": [
    {
     "name": "stdout",
     "output_type": "stream",
     "text": [
      "0.7249065578372264\n",
      "0.9798872704193033\n",
      "\n",
      "1.4397967438975836\n",
      "1.0984834964889494\n",
      "\n",
      "0.9331648160641498\n",
      "1.0910739378990326\n",
      "\n",
      "1.1717147955151652\n",
      "0.9335901334642571\n",
      "\n"
     ]
    }
   ],
   "source": [
    "for meter in [0,1,2,3]:\n",
    "    print(score[meter].min())\n",
    "    print(weight[meter][score[meter].argmin()].sum())\n",
    "    print()"
   ]
  },
  {
   "cell_type": "code",
   "execution_count": 26,
   "metadata": {
    "ExecuteTime": {
     "end_time": "2020-01-08T06:05:50.670943Z",
     "start_time": "2020-01-08T06:05:50.606916Z"
    }
   },
   "outputs": [
    {
     "name": "stdout",
     "output_type": "stream",
     "text": [
      "[0.         0.10092835 0.20018035 0.         0.18654509 0.\n",
      " 0.         0.00840609 0.21663667 0.         0.         0.12658947\n",
      " 0.14360258 0.        ]\n",
      "\n",
      "[0.         0.09565136 0.04687625 0.06225666 0.         0.\n",
      " 0.         0.         0.         0.16233157 0.19879467 0.18168248\n",
      " 0.         0.20914479]\n",
      "\n",
      "[0.         0.         0.21024257 0.17424361 0.         0.05958822\n",
      " 0.         0.         0.05475527 0.03109518 0.2207995  0.18694858\n",
      " 0.06879473 0.        ]\n",
      "\n",
      "[0.23867828 0.1178646  0.10729524 0.         0.         0.\n",
      " 0.1001939  0.         0.         0.         0.13644665 0.\n",
      " 0.22980456 0.        ]\n",
      "\n"
     ]
    }
   ],
   "source": [
    "for meter in [0,1,2,3]:\n",
    "#     for i in range(N):\n",
    "    print(weight[meter][score[meter].argmin()])\n",
    "    print()"
   ]
  },
  {
   "cell_type": "code",
   "execution_count": 32,
   "metadata": {
    "ExecuteTime": {
     "end_time": "2019-12-19T05:43:38.530990Z",
     "start_time": "2019-12-19T05:43:38.520659Z"
    }
   },
   "outputs": [
    {
     "name": "stdout",
     "output_type": "stream",
     "text": [
      "[0.         0.         0.34936335 0.         0.19842256 0.\n",
      " 0.         0.         0.40810671 0.02399465 0.        ]\n",
      "\n",
      "[0.         0.         0.41478892 0.34445995 0.         0.\n",
      " 0.         0.         0.04120542 0.1177256  0.1803036 ]\n",
      "\n",
      "[0.         0.         0.27079235 0.38448444 0.         0.09497096\n",
      " 0.         0.         0.23483615 0.         0.10599004]\n",
      "\n",
      "[0.         0.63973471 0.         0.         0.         0.\n",
      " 0.22908722 0.         0.         0.06476821 0.        ]\n",
      "\n"
     ]
    }
   ],
   "source": [
    "for meter in [0,1,2,3]:\n",
    "#     for i in range(N):\n",
    "    print(weight[meter][score[meter].argmin()])\n",
    "    print()"
   ]
  },
  {
   "cell_type": "code",
   "execution_count": 33,
   "metadata": {
    "ExecuteTime": {
     "end_time": "2019-12-19T05:43:38.535941Z",
     "start_time": "2019-12-19T05:43:38.532193Z"
    }
   },
   "outputs": [],
   "source": [
    "def new_pred(test_sub, weight, N):\n",
    "    pred_new = list()\n",
    "    for meter in [0,1,2,3]:\n",
    "        test_sub_m = test_sub.query(f'meter=={meter}')\n",
    "        ensemble_m = sum([np.log1p(test_sub_m[f'pred{i+1}']) * weight[meter][score[meter].argmin()][i] for i in range(N)])\n",
    "        pred_new.append(ensemble_m)\n",
    "\n",
    "    pred_new = pd.concat(pred_new).sort_index()\n",
    "    return np.expm1(pred_new)"
   ]
  },
  {
   "cell_type": "code",
   "execution_count": 34,
   "metadata": {
    "ExecuteTime": {
     "end_time": "2019-12-19T05:43:51.787012Z",
     "start_time": "2019-12-19T05:43:38.537189Z"
    }
   },
   "outputs": [],
   "source": [
    "ensembled_pred1 = new_pred(test_sub, weight, N)"
   ]
  },
  {
   "cell_type": "code",
   "execution_count": 35,
   "metadata": {
    "ExecuteTime": {
     "end_time": "2019-12-19T05:43:55.258452Z",
     "start_time": "2019-12-19T05:43:51.789103Z"
    }
   },
   "outputs": [
    {
     "name": "stdout",
     "output_type": "stream",
     "text": [
      "1.0294448479864227\n",
      "0.890726560019274\n",
      "0.9624590705593496\n"
     ]
    }
   ],
   "source": [
    "print(np.sqrt(mean_squared_error(np.log1p(test2018['leaked_meter_reading']), np.log1p(ensembled_pred1.loc[test2018.index]))))\n",
    "print(np.sqrt(mean_squared_error(np.log1p(test2017['leaked_meter_reading']), np.log1p(ensembled_pred1.loc[test2017.index]))))\n",
    "print(np.sqrt(mean_squared_error(np.log1p(test['leaked_meter_reading']), np.log1p(ensembled_pred1.loc[test.index]))))"
   ]
  },
  {
   "cell_type": "code",
   "execution_count": 30,
   "metadata": {
    "ExecuteTime": {
     "end_time": "2019-12-19T04:18:55.065117Z",
     "start_time": "2019-12-19T04:18:51.719363Z"
    }
   },
   "outputs": [
    {
     "name": "stdout",
     "output_type": "stream",
     "text": [
      "1.0212183713099725\n",
      "0.8871785002628109\n",
      "0.9564247823586295\n"
     ]
    }
   ],
   "source": [
    "print(np.sqrt(mean_squared_error(np.log1p(test2018['leaked_meter_reading']), np.log1p(ensembled_pred1.loc[test2018.index]))))\n",
    "print(np.sqrt(mean_squared_error(np.log1p(test2017['leaked_meter_reading']), np.log1p(ensembled_pred1.loc[test2017.index]))))\n",
    "print(np.sqrt(mean_squared_error(np.log1p(test['leaked_meter_reading']), np.log1p(ensembled_pred1.loc[test.index]))))"
   ]
  },
  {
   "cell_type": "code",
   "execution_count": 31,
   "metadata": {
    "ExecuteTime": {
     "end_time": "2019-12-18T02:43:15.228311Z",
     "start_time": "2019-12-18T02:43:10.150699Z"
    }
   },
   "outputs": [
    {
     "name": "stdout",
     "output_type": "stream",
     "text": [
      "1.0253040456482883\n",
      "0.887709111556231\n",
      "0.9588498640851298\n"
     ]
    }
   ],
   "source": [
    "print(np.sqrt(mean_squared_error(np.log1p(test2018['leaked_meter_reading']), np.log1p(ensembled_pred1.loc[test2018.index]))))\n",
    "print(np.sqrt(mean_squared_error(np.log1p(test2017['leaked_meter_reading']), np.log1p(ensembled_pred1.loc[test2017.index]))))\n",
    "print(np.sqrt(mean_squared_error(np.log1p(test['leaked_meter_reading']), np.log1p(ensembled_pred1.loc[test.index]))))"
   ]
  },
  {
   "cell_type": "code",
   "execution_count": 32,
   "metadata": {
    "ExecuteTime": {
     "end_time": "2019-12-19T05:22:25.100828Z",
     "start_time": "2019-12-19T05:22:25.097745Z"
    }
   },
   "outputs": [],
   "source": [
    "# 0.9455117442226527\n",
    "# 0.7985375584144594\n",
    "\n",
    "# 0.9404366275680945\n",
    "# 0.8062714386695903\n",
    "\n",
    "#0.9408301210841344\n",
    "#0.8029139931610979\n",
    "#all 0.8744504105324552\n",
    "\n",
    "# 0.9382531143644084\n",
    "# 0.8031481393084626\n",
    "# 0.873175711300433"
   ]
  },
  {
   "cell_type": "code",
   "execution_count": 36,
   "metadata": {
    "ExecuteTime": {
     "end_time": "2019-12-19T05:43:59.788254Z",
     "start_time": "2019-12-19T05:43:55.260867Z"
    }
   },
   "outputs": [],
   "source": [
    "new_submission = pd.read_csv('../input/sample_submission.csv')"
   ]
  },
  {
   "cell_type": "code",
   "execution_count": 37,
   "metadata": {
    "ExecuteTime": {
     "end_time": "2019-12-19T05:43:59.936250Z",
     "start_time": "2019-12-19T05:43:59.789537Z"
    }
   },
   "outputs": [],
   "source": [
    "new_submission['meter_reading'] = ensembled_pred1.values\n",
    "#                                       submission1['meter_reading'] * arr[arr[:,0].argmin()][1][0] \\\n",
    "#                                     + submission2['meter_reading'] * arr[arr[:,0].argmin()][1][1] \\\n",
    "#                                     + submission3['meter_reading'] * arr[arr[:,0].argmin()][1][2]"
   ]
  },
  {
   "cell_type": "code",
   "execution_count": 38,
   "metadata": {
    "ExecuteTime": {
     "end_time": "2019-12-19T05:45:50.732008Z",
     "start_time": "2019-12-19T05:43:59.937508Z"
    }
   },
   "outputs": [],
   "source": [
    "new_submission.to_csv('../output/submission_my_leak_validation.csv', index=False)"
   ]
  },
  {
   "cell_type": "code",
   "execution_count": 30,
   "metadata": {
    "ExecuteTime": {
     "end_time": "2019-12-17T06:57:57.837610Z",
     "start_time": "2019-12-17T06:57:57.742748Z"
    },
    "scrolled": true
   },
   "outputs": [
    {
     "data": {
      "text/html": [
       "<div>\n",
       "<style scoped>\n",
       "    .dataframe tbody tr th:only-of-type {\n",
       "        vertical-align: middle;\n",
       "    }\n",
       "\n",
       "    .dataframe tbody tr th {\n",
       "        vertical-align: top;\n",
       "    }\n",
       "\n",
       "    .dataframe thead th {\n",
       "        text-align: right;\n",
       "    }\n",
       "</style>\n",
       "<table border=\"1\" class=\"dataframe\">\n",
       "  <thead>\n",
       "    <tr style=\"text-align: right;\">\n",
       "      <th></th>\n",
       "      <th>row_id</th>\n",
       "      <th>meter_reading</th>\n",
       "    </tr>\n",
       "  </thead>\n",
       "  <tbody>\n",
       "    <tr>\n",
       "      <th>0</th>\n",
       "      <td>0</td>\n",
       "      <td>153.789032</td>\n",
       "    </tr>\n",
       "    <tr>\n",
       "      <th>1</th>\n",
       "      <td>1</td>\n",
       "      <td>73.405287</td>\n",
       "    </tr>\n",
       "    <tr>\n",
       "      <th>2</th>\n",
       "      <td>2</td>\n",
       "      <td>6.593431</td>\n",
       "    </tr>\n",
       "    <tr>\n",
       "      <th>3</th>\n",
       "      <td>3</td>\n",
       "      <td>246.250961</td>\n",
       "    </tr>\n",
       "    <tr>\n",
       "      <th>4</th>\n",
       "      <td>4</td>\n",
       "      <td>1169.665890</td>\n",
       "    </tr>\n",
       "    <tr>\n",
       "      <th>5</th>\n",
       "      <td>5</td>\n",
       "      <td>12.276495</td>\n",
       "    </tr>\n",
       "    <tr>\n",
       "      <th>6</th>\n",
       "      <td>6</td>\n",
       "      <td>111.057664</td>\n",
       "    </tr>\n",
       "    <tr>\n",
       "      <th>7</th>\n",
       "      <td>7</td>\n",
       "      <td>371.991712</td>\n",
       "    </tr>\n",
       "    <tr>\n",
       "      <th>8</th>\n",
       "      <td>8</td>\n",
       "      <td>782.021891</td>\n",
       "    </tr>\n",
       "    <tr>\n",
       "      <th>9</th>\n",
       "      <td>9</td>\n",
       "      <td>325.093032</td>\n",
       "    </tr>\n",
       "    <tr>\n",
       "      <th>10</th>\n",
       "      <td>10</td>\n",
       "      <td>58.755885</td>\n",
       "    </tr>\n",
       "    <tr>\n",
       "      <th>11</th>\n",
       "      <td>11</td>\n",
       "      <td>8.655227</td>\n",
       "    </tr>\n",
       "    <tr>\n",
       "      <th>12</th>\n",
       "      <td>12</td>\n",
       "      <td>1090.621862</td>\n",
       "    </tr>\n",
       "    <tr>\n",
       "      <th>13</th>\n",
       "      <td>13</td>\n",
       "      <td>370.748513</td>\n",
       "    </tr>\n",
       "    <tr>\n",
       "      <th>14</th>\n",
       "      <td>14</td>\n",
       "      <td>210.544674</td>\n",
       "    </tr>\n",
       "    <tr>\n",
       "      <th>15</th>\n",
       "      <td>15</td>\n",
       "      <td>237.870615</td>\n",
       "    </tr>\n",
       "    <tr>\n",
       "      <th>16</th>\n",
       "      <td>16</td>\n",
       "      <td>53.950080</td>\n",
       "    </tr>\n",
       "    <tr>\n",
       "      <th>17</th>\n",
       "      <td>17</td>\n",
       "      <td>242.872830</td>\n",
       "    </tr>\n",
       "    <tr>\n",
       "      <th>18</th>\n",
       "      <td>18</td>\n",
       "      <td>537.845128</td>\n",
       "    </tr>\n",
       "    <tr>\n",
       "      <th>19</th>\n",
       "      <td>19</td>\n",
       "      <td>166.540896</td>\n",
       "    </tr>\n",
       "    <tr>\n",
       "      <th>20</th>\n",
       "      <td>20</td>\n",
       "      <td>446.791921</td>\n",
       "    </tr>\n",
       "    <tr>\n",
       "      <th>21</th>\n",
       "      <td>21</td>\n",
       "      <td>923.616166</td>\n",
       "    </tr>\n",
       "    <tr>\n",
       "      <th>22</th>\n",
       "      <td>22</td>\n",
       "      <td>98.813929</td>\n",
       "    </tr>\n",
       "    <tr>\n",
       "      <th>23</th>\n",
       "      <td>23</td>\n",
       "      <td>1495.043229</td>\n",
       "    </tr>\n",
       "    <tr>\n",
       "      <th>24</th>\n",
       "      <td>24</td>\n",
       "      <td>149.807661</td>\n",
       "    </tr>\n",
       "    <tr>\n",
       "      <th>25</th>\n",
       "      <td>25</td>\n",
       "      <td>333.584504</td>\n",
       "    </tr>\n",
       "    <tr>\n",
       "      <th>26</th>\n",
       "      <td>26</td>\n",
       "      <td>39.855872</td>\n",
       "    </tr>\n",
       "    <tr>\n",
       "      <th>27</th>\n",
       "      <td>27</td>\n",
       "      <td>21.676648</td>\n",
       "    </tr>\n",
       "    <tr>\n",
       "      <th>28</th>\n",
       "      <td>28</td>\n",
       "      <td>642.566114</td>\n",
       "    </tr>\n",
       "    <tr>\n",
       "      <th>29</th>\n",
       "      <td>29</td>\n",
       "      <td>554.922555</td>\n",
       "    </tr>\n",
       "    <tr>\n",
       "      <th>...</th>\n",
       "      <td>...</td>\n",
       "      <td>...</td>\n",
       "    </tr>\n",
       "    <tr>\n",
       "      <th>41697570</th>\n",
       "      <td>41697570</td>\n",
       "      <td>1664.969619</td>\n",
       "    </tr>\n",
       "    <tr>\n",
       "      <th>41697571</th>\n",
       "      <td>41697571</td>\n",
       "      <td>40.651117</td>\n",
       "    </tr>\n",
       "    <tr>\n",
       "      <th>41697572</th>\n",
       "      <td>41697572</td>\n",
       "      <td>29.056909</td>\n",
       "    </tr>\n",
       "    <tr>\n",
       "      <th>41697573</th>\n",
       "      <td>41697573</td>\n",
       "      <td>375.418730</td>\n",
       "    </tr>\n",
       "    <tr>\n",
       "      <th>41697574</th>\n",
       "      <td>41697574</td>\n",
       "      <td>96.154315</td>\n",
       "    </tr>\n",
       "    <tr>\n",
       "      <th>41697575</th>\n",
       "      <td>41697575</td>\n",
       "      <td>117.360213</td>\n",
       "    </tr>\n",
       "    <tr>\n",
       "      <th>41697576</th>\n",
       "      <td>41697576</td>\n",
       "      <td>131.133331</td>\n",
       "    </tr>\n",
       "    <tr>\n",
       "      <th>41697577</th>\n",
       "      <td>41697577</td>\n",
       "      <td>418.073687</td>\n",
       "    </tr>\n",
       "    <tr>\n",
       "      <th>41697578</th>\n",
       "      <td>41697578</td>\n",
       "      <td>35.877835</td>\n",
       "    </tr>\n",
       "    <tr>\n",
       "      <th>41697579</th>\n",
       "      <td>41697579</td>\n",
       "      <td>332.079277</td>\n",
       "    </tr>\n",
       "    <tr>\n",
       "      <th>41697580</th>\n",
       "      <td>41697580</td>\n",
       "      <td>70.498056</td>\n",
       "    </tr>\n",
       "    <tr>\n",
       "      <th>41697581</th>\n",
       "      <td>41697581</td>\n",
       "      <td>131.902593</td>\n",
       "    </tr>\n",
       "    <tr>\n",
       "      <th>41697582</th>\n",
       "      <td>41697582</td>\n",
       "      <td>5.724671</td>\n",
       "    </tr>\n",
       "    <tr>\n",
       "      <th>41697583</th>\n",
       "      <td>41697583</td>\n",
       "      <td>12.355508</td>\n",
       "    </tr>\n",
       "    <tr>\n",
       "      <th>41697584</th>\n",
       "      <td>41697584</td>\n",
       "      <td>839.744388</td>\n",
       "    </tr>\n",
       "    <tr>\n",
       "      <th>41697585</th>\n",
       "      <td>41697585</td>\n",
       "      <td>493.725876</td>\n",
       "    </tr>\n",
       "    <tr>\n",
       "      <th>41697586</th>\n",
       "      <td>41697586</td>\n",
       "      <td>513.183639</td>\n",
       "    </tr>\n",
       "    <tr>\n",
       "      <th>41697587</th>\n",
       "      <td>41697587</td>\n",
       "      <td>183.864034</td>\n",
       "    </tr>\n",
       "    <tr>\n",
       "      <th>41697588</th>\n",
       "      <td>41697588</td>\n",
       "      <td>388.454675</td>\n",
       "    </tr>\n",
       "    <tr>\n",
       "      <th>41697589</th>\n",
       "      <td>41697589</td>\n",
       "      <td>179.102942</td>\n",
       "    </tr>\n",
       "    <tr>\n",
       "      <th>41697590</th>\n",
       "      <td>41697590</td>\n",
       "      <td>245.710639</td>\n",
       "    </tr>\n",
       "    <tr>\n",
       "      <th>41697591</th>\n",
       "      <td>41697591</td>\n",
       "      <td>262.722693</td>\n",
       "    </tr>\n",
       "    <tr>\n",
       "      <th>41697592</th>\n",
       "      <td>41697592</td>\n",
       "      <td>79.026278</td>\n",
       "    </tr>\n",
       "    <tr>\n",
       "      <th>41697593</th>\n",
       "      <td>41697593</td>\n",
       "      <td>2.127205</td>\n",
       "    </tr>\n",
       "    <tr>\n",
       "      <th>41697594</th>\n",
       "      <td>41697594</td>\n",
       "      <td>79.881469</td>\n",
       "    </tr>\n",
       "    <tr>\n",
       "      <th>41697595</th>\n",
       "      <td>41697595</td>\n",
       "      <td>6.283910</td>\n",
       "    </tr>\n",
       "    <tr>\n",
       "      <th>41697596</th>\n",
       "      <td>41697596</td>\n",
       "      <td>4.513422</td>\n",
       "    </tr>\n",
       "    <tr>\n",
       "      <th>41697597</th>\n",
       "      <td>41697597</td>\n",
       "      <td>8.072940</td>\n",
       "    </tr>\n",
       "    <tr>\n",
       "      <th>41697598</th>\n",
       "      <td>41697598</td>\n",
       "      <td>159.424733</td>\n",
       "    </tr>\n",
       "    <tr>\n",
       "      <th>41697599</th>\n",
       "      <td>41697599</td>\n",
       "      <td>4.031795</td>\n",
       "    </tr>\n",
       "  </tbody>\n",
       "</table>\n",
       "<p>41697600 rows × 2 columns</p>\n",
       "</div>"
      ],
      "text/plain": [
       "            row_id  meter_reading\n",
       "0                0     153.789032\n",
       "1                1      73.405287\n",
       "2                2       6.593431\n",
       "3                3     246.250961\n",
       "4                4    1169.665890\n",
       "5                5      12.276495\n",
       "6                6     111.057664\n",
       "7                7     371.991712\n",
       "8                8     782.021891\n",
       "9                9     325.093032\n",
       "10              10      58.755885\n",
       "11              11       8.655227\n",
       "12              12    1090.621862\n",
       "13              13     370.748513\n",
       "14              14     210.544674\n",
       "15              15     237.870615\n",
       "16              16      53.950080\n",
       "17              17     242.872830\n",
       "18              18     537.845128\n",
       "19              19     166.540896\n",
       "20              20     446.791921\n",
       "21              21     923.616166\n",
       "22              22      98.813929\n",
       "23              23    1495.043229\n",
       "24              24     149.807661\n",
       "25              25     333.584504\n",
       "26              26      39.855872\n",
       "27              27      21.676648\n",
       "28              28     642.566114\n",
       "29              29     554.922555\n",
       "...            ...            ...\n",
       "41697570  41697570    1664.969619\n",
       "41697571  41697571      40.651117\n",
       "41697572  41697572      29.056909\n",
       "41697573  41697573     375.418730\n",
       "41697574  41697574      96.154315\n",
       "41697575  41697575     117.360213\n",
       "41697576  41697576     131.133331\n",
       "41697577  41697577     418.073687\n",
       "41697578  41697578      35.877835\n",
       "41697579  41697579     332.079277\n",
       "41697580  41697580      70.498056\n",
       "41697581  41697581     131.902593\n",
       "41697582  41697582       5.724671\n",
       "41697583  41697583      12.355508\n",
       "41697584  41697584     839.744388\n",
       "41697585  41697585     493.725876\n",
       "41697586  41697586     513.183639\n",
       "41697587  41697587     183.864034\n",
       "41697588  41697588     388.454675\n",
       "41697589  41697589     179.102942\n",
       "41697590  41697590     245.710639\n",
       "41697591  41697591     262.722693\n",
       "41697592  41697592      79.026278\n",
       "41697593  41697593       2.127205\n",
       "41697594  41697594      79.881469\n",
       "41697595  41697595       6.283910\n",
       "41697596  41697596       4.513422\n",
       "41697597  41697597       8.072940\n",
       "41697598  41697598     159.424733\n",
       "41697599  41697599       4.031795\n",
       "\n",
       "[41697600 rows x 2 columns]"
      ]
     },
     "execution_count": 30,
     "metadata": {},
     "output_type": "execute_result"
    }
   ],
   "source": [
    "new_submission"
   ]
  }
 ],
 "metadata": {
  "kernelspec": {
   "display_name": "Python 3",
   "language": "python",
   "name": "python3"
  },
  "language_info": {
   "codemirror_mode": {
    "name": "ipython",
    "version": 3
   },
   "file_extension": ".py",
   "mimetype": "text/x-python",
   "name": "python",
   "nbconvert_exporter": "python",
   "pygments_lexer": "ipython3",
   "version": "3.6.8"
  }
 },
 "nbformat": 4,
 "nbformat_minor": 2
}
