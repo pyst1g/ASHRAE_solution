{
 "cells": [
  {
   "cell_type": "code",
   "execution_count": 1,
   "metadata": {
    "ExecuteTime": {
     "end_time": "2020-01-15T07:43:00.874186Z",
     "start_time": "2020-01-15T07:42:55.286995Z"
    },
    "scrolled": true
   },
   "outputs": [],
   "source": [
    "import numpy as np\n",
    "import pandas as pd\n",
    "\n",
    "from copy import deepcopy\n",
    "from functools import partial\n",
    "import matplotlib.pyplot as plt\n",
    "import optuna\n",
    "import pickle\n",
    "from sklearn.metrics import mean_squared_error\n",
    "from tqdm import tqdm"
   ]
  },
  {
   "cell_type": "code",
   "execution_count": 2,
   "metadata": {
    "ExecuteTime": {
     "end_time": "2020-01-15T07:43:31.245949Z",
     "start_time": "2020-01-15T07:43:00.878821Z"
    },
    "code_folding": []
   },
   "outputs": [],
   "source": [
    "# leaked_df = pd.read_csv('../input/leaked_data_all.csv', parse_dates=['timestamp'])\n",
    "with open('../input/leak_data_drop_bad_rows.pkl', 'rb') as f:\n",
    "    leaked_df = pickle.load(f).rename(columns={'meter_reading': 'leaked_meter_reading'})\n",
    "\n",
    "# leaked_df = pd.read_feather('../input/leak_data.feather').rename(columns={'meter_reading': 'leaked_meter_reading'})\n",
    "leaked_df = leaked_df[['building_id','meter','timestamp', 'leaked_meter_reading']]\n",
    "leaked_df = leaked_df.query('timestamp>=20170101')\n",
    "\n",
    "building_meta = pd.read_csv(\"../input/building_metadata.csv\")\n",
    "\n",
    "leaked_df = leaked_df.merge(building_meta[['building_id', 'site_id']], on='building_id', how='left')\n",
    "\n",
    "leaked_df = leaked_df.query('~(meter==0 & site_id==0)')\n",
    "# leaked_df = leaked_df.query('site_id==[2,4,15]')\n",
    "# leaked_df = leaked_df.query('105<=building_id<=564 | 656<=building_id')\n",
    "\n",
    "test = pd.read_csv(\"../input/test.csv\", parse_dates=['timestamp'])"
   ]
  },
  {
   "cell_type": "code",
   "execution_count": 3,
   "metadata": {
    "ExecuteTime": {
     "end_time": "2020-01-15T07:45:11.542105Z",
     "start_time": "2020-01-15T07:43:31.251267Z"
    }
   },
   "outputs": [
    {
     "name": "stderr",
     "output_type": "stream",
     "text": [
      "100%|██████████| 3/3 [01:40<00:00, 33.42s/it]\n"
     ]
    }
   ],
   "source": [
    "i = 1\n",
    "\n",
    "for mul in tqdm(['05', '10', '15']):\n",
    "    submission_s1 = pd.read_csv(f'../output/use_train_fe_seed1_leave31_lr005_tree500_mul{mul}.csv')\n",
    "    submission_s2 = pd.read_csv(f'../output/use_train_fe_seed2_leave31_lr005_tree500_mul{mul}.csv')\n",
    "    submission_s3 = pd.read_csv(f'../output/use_train_fe_seed3_leave31_lr005_tree500_mul{mul}.csv')\n",
    "    test[f'pred{i}'] = (submission_s1['meter_reading'] + submission_s2['meter_reading'] + submission_s3['meter_reading']) / 3\n",
    "#             test[f'pred{i}'] = submission_s1['meter_reading']\n",
    "    i += 1\n",
    "# del submission_s1, submission_s2, submission_s3"
   ]
  },
  {
   "cell_type": "code",
   "execution_count": 4,
   "metadata": {
    "ExecuteTime": {
     "end_time": "2020-01-15T07:45:44.470608Z",
     "start_time": "2020-01-15T07:45:11.543953Z"
    },
    "scrolled": true
   },
   "outputs": [
    {
     "name": "stderr",
     "output_type": "stream",
     "text": [
      "100%|██████████| 1/1 [00:32<00:00, 32.91s/it]\n"
     ]
    }
   ],
   "source": [
    "for tree in [500]:\n",
    "    for leave in tqdm([7]):\n",
    "        for lr in [\"005\"]:\n",
    "            submission_s1 = pd.read_csv(f'../output/use_train_fe_seed1_leave{leave}_lr{lr}_tree{tree}_mul05.csv')\n",
    "            submission_s2 = pd.read_csv(f'../output/use_train_fe_seed2_leave{leave}_lr{lr}_tree{tree}_mul05.csv')\n",
    "            submission_s3 = pd.read_csv(f'../output/use_train_fe_seed3_leave{leave}_lr{lr}_tree{tree}_mul05.csv')\n",
    "            test[f'pred{i}'] = (submission_s1['meter_reading'] + submission_s2['meter_reading'] + submission_s3['meter_reading']) / 3\n",
    "#             test[f'pred{i}'] = submission_s1['meter_reading']\n",
    "            i += 1\n",
    "# del submission_s1, submission_s2, submission_s3"
   ]
  },
  {
   "cell_type": "code",
   "execution_count": 5,
   "metadata": {
    "ExecuteTime": {
     "end_time": "2020-01-15T07:45:44.478647Z",
     "start_time": "2020-01-15T07:45:44.474162Z"
    },
    "scrolled": true
   },
   "outputs": [],
   "source": [
    "# for tree in [500]:\n",
    "#     for leave in tqdm([7, 15]):\n",
    "#         for lr in [\"001\", \"005\",\"01\"]:\n",
    "#             submission_s1 = pd.read_csv(f'../output/use_train_fe_noTE_seed1_leave{leave}_lr{lr}_tree{tree}_mul05.csv')\n",
    "# #             submission_s2 = pd.read_csv(f'../output/use_train_fe_noTE_seed2_leave{leave}_lr{lr}_tree{tree}_mul05.csv')\n",
    "# #             submission_s3 = pd.read_csv(f'../output/use_train_fe_noTE_seed3_leave{leave}_lr{lr}_tree{tree}_mul05.csv')\n",
    "# #             test[f'pred{i}'] = (submission_s1['meter_reading'] + submission_s2['meter_reading'] + submission_s3['meter_reading']) / 3\n",
    "#             test[f'pred{i}'] = submission_s1['meter_reading']\n",
    "#             i += 1\n",
    "# # del submission_s1, submission_s2, submission_s3"
   ]
  },
  {
   "cell_type": "code",
   "execution_count": 6,
   "metadata": {
    "ExecuteTime": {
     "end_time": "2020-01-15T07:45:46.582544Z",
     "start_time": "2020-01-15T07:45:44.486137Z"
    },
    "scrolled": true
   },
   "outputs": [
    {
     "name": "stdout",
     "output_type": "stream",
     "text": [
      "5 "
     ]
    },
    {
     "ename": "FileNotFoundError",
     "evalue": "[Errno 2] File b'../old_submission/half_and_half.csv' does not exist: b'../old_submission/half_and_half.csv'",
     "output_type": "error",
     "traceback": [
      "\u001b[0;31m---------------------------------------------------------------------------\u001b[0m",
      "\u001b[0;31mFileNotFoundError\u001b[0m                         Traceback (most recent call last)",
      "\u001b[0;32m<ipython-input-6-b93a14d69c59>\u001b[0m in \u001b[0;36m<module>\u001b[0;34m\u001b[0m\n\u001b[1;32m      2\u001b[0m \u001b[0;32mfor\u001b[0m \u001b[0mname\u001b[0m \u001b[0;32min\u001b[0m \u001b[0;34m[\u001b[0m\u001b[0;34m'half_and_half'\u001b[0m\u001b[0;34m,\u001b[0m \u001b[0;34m'submission_simple_data_cleanup'\u001b[0m\u001b[0;34m]\u001b[0m\u001b[0;34m:\u001b[0m\u001b[0;31m#, 'use_train_fe_seed1_leave15_lr001_tree20000_mul05']:#, 'fe2_lgbm']:\u001b[0m\u001b[0;34m\u001b[0m\u001b[0;34m\u001b[0m\u001b[0m\n\u001b[1;32m      3\u001b[0m     \u001b[0mprint\u001b[0m\u001b[0;34m(\u001b[0m\u001b[0mi\u001b[0m\u001b[0;34m,\u001b[0m \u001b[0mend\u001b[0m\u001b[0;34m=\u001b[0m\u001b[0;34m' '\u001b[0m\u001b[0;34m)\u001b[0m\u001b[0;34m\u001b[0m\u001b[0;34m\u001b[0m\u001b[0m\n\u001b[0;32m----> 4\u001b[0;31m     \u001b[0mtest\u001b[0m\u001b[0;34m[\u001b[0m\u001b[0;34mf'pred{i}'\u001b[0m\u001b[0;34m]\u001b[0m \u001b[0;34m=\u001b[0m \u001b[0mpd\u001b[0m\u001b[0;34m.\u001b[0m\u001b[0mread_csv\u001b[0m\u001b[0;34m(\u001b[0m\u001b[0;34mf'../old_submission/{name}.csv'\u001b[0m\u001b[0;34m)\u001b[0m\u001b[0;34m[\u001b[0m\u001b[0;34m'meter_reading'\u001b[0m\u001b[0;34m]\u001b[0m\u001b[0;34m\u001b[0m\u001b[0;34m\u001b[0m\u001b[0m\n\u001b[0m\u001b[1;32m      5\u001b[0m     \u001b[0mi\u001b[0m \u001b[0;34m+=\u001b[0m \u001b[0;36m1\u001b[0m\u001b[0;34m\u001b[0m\u001b[0;34m\u001b[0m\u001b[0m\n",
      "\u001b[0;32m/mnt/dirac/sano/env36/lib/python3.6/site-packages/pandas/io/parsers.py\u001b[0m in \u001b[0;36mparser_f\u001b[0;34m(filepath_or_buffer, sep, delimiter, header, names, index_col, usecols, squeeze, prefix, mangle_dupe_cols, dtype, engine, converters, true_values, false_values, skipinitialspace, skiprows, skipfooter, nrows, na_values, keep_default_na, na_filter, verbose, skip_blank_lines, parse_dates, infer_datetime_format, keep_date_col, date_parser, dayfirst, iterator, chunksize, compression, thousands, decimal, lineterminator, quotechar, quoting, doublequote, escapechar, comment, encoding, dialect, tupleize_cols, error_bad_lines, warn_bad_lines, delim_whitespace, low_memory, memory_map, float_precision)\u001b[0m\n\u001b[1;32m    700\u001b[0m                     skip_blank_lines=skip_blank_lines)\n\u001b[1;32m    701\u001b[0m \u001b[0;34m\u001b[0m\u001b[0m\n\u001b[0;32m--> 702\u001b[0;31m         \u001b[0;32mreturn\u001b[0m \u001b[0m_read\u001b[0m\u001b[0;34m(\u001b[0m\u001b[0mfilepath_or_buffer\u001b[0m\u001b[0;34m,\u001b[0m \u001b[0mkwds\u001b[0m\u001b[0;34m)\u001b[0m\u001b[0;34m\u001b[0m\u001b[0;34m\u001b[0m\u001b[0m\n\u001b[0m\u001b[1;32m    703\u001b[0m \u001b[0;34m\u001b[0m\u001b[0m\n\u001b[1;32m    704\u001b[0m     \u001b[0mparser_f\u001b[0m\u001b[0;34m.\u001b[0m\u001b[0m__name__\u001b[0m \u001b[0;34m=\u001b[0m \u001b[0mname\u001b[0m\u001b[0;34m\u001b[0m\u001b[0;34m\u001b[0m\u001b[0m\n",
      "\u001b[0;32m/mnt/dirac/sano/env36/lib/python3.6/site-packages/pandas/io/parsers.py\u001b[0m in \u001b[0;36m_read\u001b[0;34m(filepath_or_buffer, kwds)\u001b[0m\n\u001b[1;32m    427\u001b[0m \u001b[0;34m\u001b[0m\u001b[0m\n\u001b[1;32m    428\u001b[0m     \u001b[0;31m# Create the parser.\u001b[0m\u001b[0;34m\u001b[0m\u001b[0;34m\u001b[0m\u001b[0;34m\u001b[0m\u001b[0m\n\u001b[0;32m--> 429\u001b[0;31m     \u001b[0mparser\u001b[0m \u001b[0;34m=\u001b[0m \u001b[0mTextFileReader\u001b[0m\u001b[0;34m(\u001b[0m\u001b[0mfilepath_or_buffer\u001b[0m\u001b[0;34m,\u001b[0m \u001b[0;34m**\u001b[0m\u001b[0mkwds\u001b[0m\u001b[0;34m)\u001b[0m\u001b[0;34m\u001b[0m\u001b[0;34m\u001b[0m\u001b[0m\n\u001b[0m\u001b[1;32m    430\u001b[0m \u001b[0;34m\u001b[0m\u001b[0m\n\u001b[1;32m    431\u001b[0m     \u001b[0;32mif\u001b[0m \u001b[0mchunksize\u001b[0m \u001b[0;32mor\u001b[0m \u001b[0miterator\u001b[0m\u001b[0;34m:\u001b[0m\u001b[0;34m\u001b[0m\u001b[0;34m\u001b[0m\u001b[0m\n",
      "\u001b[0;32m/mnt/dirac/sano/env36/lib/python3.6/site-packages/pandas/io/parsers.py\u001b[0m in \u001b[0;36m__init__\u001b[0;34m(self, f, engine, **kwds)\u001b[0m\n\u001b[1;32m    893\u001b[0m             \u001b[0mself\u001b[0m\u001b[0;34m.\u001b[0m\u001b[0moptions\u001b[0m\u001b[0;34m[\u001b[0m\u001b[0;34m'has_index_names'\u001b[0m\u001b[0;34m]\u001b[0m \u001b[0;34m=\u001b[0m \u001b[0mkwds\u001b[0m\u001b[0;34m[\u001b[0m\u001b[0;34m'has_index_names'\u001b[0m\u001b[0;34m]\u001b[0m\u001b[0;34m\u001b[0m\u001b[0;34m\u001b[0m\u001b[0m\n\u001b[1;32m    894\u001b[0m \u001b[0;34m\u001b[0m\u001b[0m\n\u001b[0;32m--> 895\u001b[0;31m         \u001b[0mself\u001b[0m\u001b[0;34m.\u001b[0m\u001b[0m_make_engine\u001b[0m\u001b[0;34m(\u001b[0m\u001b[0mself\u001b[0m\u001b[0;34m.\u001b[0m\u001b[0mengine\u001b[0m\u001b[0;34m)\u001b[0m\u001b[0;34m\u001b[0m\u001b[0;34m\u001b[0m\u001b[0m\n\u001b[0m\u001b[1;32m    896\u001b[0m \u001b[0;34m\u001b[0m\u001b[0m\n\u001b[1;32m    897\u001b[0m     \u001b[0;32mdef\u001b[0m \u001b[0mclose\u001b[0m\u001b[0;34m(\u001b[0m\u001b[0mself\u001b[0m\u001b[0;34m)\u001b[0m\u001b[0;34m:\u001b[0m\u001b[0;34m\u001b[0m\u001b[0;34m\u001b[0m\u001b[0m\n",
      "\u001b[0;32m/mnt/dirac/sano/env36/lib/python3.6/site-packages/pandas/io/parsers.py\u001b[0m in \u001b[0;36m_make_engine\u001b[0;34m(self, engine)\u001b[0m\n\u001b[1;32m   1120\u001b[0m     \u001b[0;32mdef\u001b[0m \u001b[0m_make_engine\u001b[0m\u001b[0;34m(\u001b[0m\u001b[0mself\u001b[0m\u001b[0;34m,\u001b[0m \u001b[0mengine\u001b[0m\u001b[0;34m=\u001b[0m\u001b[0;34m'c'\u001b[0m\u001b[0;34m)\u001b[0m\u001b[0;34m:\u001b[0m\u001b[0;34m\u001b[0m\u001b[0;34m\u001b[0m\u001b[0m\n\u001b[1;32m   1121\u001b[0m         \u001b[0;32mif\u001b[0m \u001b[0mengine\u001b[0m \u001b[0;34m==\u001b[0m \u001b[0;34m'c'\u001b[0m\u001b[0;34m:\u001b[0m\u001b[0;34m\u001b[0m\u001b[0;34m\u001b[0m\u001b[0m\n\u001b[0;32m-> 1122\u001b[0;31m             \u001b[0mself\u001b[0m\u001b[0;34m.\u001b[0m\u001b[0m_engine\u001b[0m \u001b[0;34m=\u001b[0m \u001b[0mCParserWrapper\u001b[0m\u001b[0;34m(\u001b[0m\u001b[0mself\u001b[0m\u001b[0;34m.\u001b[0m\u001b[0mf\u001b[0m\u001b[0;34m,\u001b[0m \u001b[0;34m**\u001b[0m\u001b[0mself\u001b[0m\u001b[0;34m.\u001b[0m\u001b[0moptions\u001b[0m\u001b[0;34m)\u001b[0m\u001b[0;34m\u001b[0m\u001b[0;34m\u001b[0m\u001b[0m\n\u001b[0m\u001b[1;32m   1123\u001b[0m         \u001b[0;32melse\u001b[0m\u001b[0;34m:\u001b[0m\u001b[0;34m\u001b[0m\u001b[0;34m\u001b[0m\u001b[0m\n\u001b[1;32m   1124\u001b[0m             \u001b[0;32mif\u001b[0m \u001b[0mengine\u001b[0m \u001b[0;34m==\u001b[0m \u001b[0;34m'python'\u001b[0m\u001b[0;34m:\u001b[0m\u001b[0;34m\u001b[0m\u001b[0;34m\u001b[0m\u001b[0m\n",
      "\u001b[0;32m/mnt/dirac/sano/env36/lib/python3.6/site-packages/pandas/io/parsers.py\u001b[0m in \u001b[0;36m__init__\u001b[0;34m(self, src, **kwds)\u001b[0m\n\u001b[1;32m   1851\u001b[0m         \u001b[0mkwds\u001b[0m\u001b[0;34m[\u001b[0m\u001b[0;34m'usecols'\u001b[0m\u001b[0;34m]\u001b[0m \u001b[0;34m=\u001b[0m \u001b[0mself\u001b[0m\u001b[0;34m.\u001b[0m\u001b[0musecols\u001b[0m\u001b[0;34m\u001b[0m\u001b[0;34m\u001b[0m\u001b[0m\n\u001b[1;32m   1852\u001b[0m \u001b[0;34m\u001b[0m\u001b[0m\n\u001b[0;32m-> 1853\u001b[0;31m         \u001b[0mself\u001b[0m\u001b[0;34m.\u001b[0m\u001b[0m_reader\u001b[0m \u001b[0;34m=\u001b[0m \u001b[0mparsers\u001b[0m\u001b[0;34m.\u001b[0m\u001b[0mTextReader\u001b[0m\u001b[0;34m(\u001b[0m\u001b[0msrc\u001b[0m\u001b[0;34m,\u001b[0m \u001b[0;34m**\u001b[0m\u001b[0mkwds\u001b[0m\u001b[0;34m)\u001b[0m\u001b[0;34m\u001b[0m\u001b[0;34m\u001b[0m\u001b[0m\n\u001b[0m\u001b[1;32m   1854\u001b[0m         \u001b[0mself\u001b[0m\u001b[0;34m.\u001b[0m\u001b[0munnamed_cols\u001b[0m \u001b[0;34m=\u001b[0m \u001b[0mself\u001b[0m\u001b[0;34m.\u001b[0m\u001b[0m_reader\u001b[0m\u001b[0;34m.\u001b[0m\u001b[0munnamed_cols\u001b[0m\u001b[0;34m\u001b[0m\u001b[0;34m\u001b[0m\u001b[0m\n\u001b[1;32m   1855\u001b[0m \u001b[0;34m\u001b[0m\u001b[0m\n",
      "\u001b[0;32mpandas/_libs/parsers.pyx\u001b[0m in \u001b[0;36mpandas._libs.parsers.TextReader.__cinit__\u001b[0;34m()\u001b[0m\n",
      "\u001b[0;32mpandas/_libs/parsers.pyx\u001b[0m in \u001b[0;36mpandas._libs.parsers.TextReader._setup_parser_source\u001b[0;34m()\u001b[0m\n",
      "\u001b[0;31mFileNotFoundError\u001b[0m: [Errno 2] File b'../old_submission/half_and_half.csv' does not exist: b'../old_submission/half_and_half.csv'"
     ]
    }
   ],
   "source": [
    "# # for name in ['fe2_lgbm', 'submission_tomioka', 'submission_half_and_half', 'submission_distill', 'submission_TE_50000tree_seed1_mul075']:\n",
    "# for name in ['half_and_half', 'submission_simple_data_cleanup']:#, 'use_train_fe_seed1_leave15_lr001_tree20000_mul05']:#, 'fe2_lgbm']:\n",
    "#     print(i, end=' ')\n",
    "#     test[f'pred{i}'] = pd.read_csv(f'../output/{name}.csv')['meter_reading']\n",
    "#     i += 1"
   ]
  },
  {
   "cell_type": "code",
   "execution_count": 8,
   "metadata": {
    "ExecuteTime": {
     "end_time": "2020-01-15T08:01:00.206003Z",
     "start_time": "2020-01-15T08:00:40.954667Z"
    },
    "scrolled": true
   },
   "outputs": [
    {
     "name": "stdout",
     "output_type": "stream",
     "text": [
      "5 6 "
     ]
    }
   ],
   "source": [
    "# for name in ['fe2_lgbm', 'submission_tomioka', 'submission_half_and_half', 'submission_distill', 'submission_TE_50000tree_seed1_mul075']:\n",
    "for name in ['submission_half_and_half', 'submission_simple_data_cleanup']:#, 'use_train_fe_seed1_leave15_lr001_tree20000_mul05']:#, 'fe2_lgbm']:\n",
    "    print(i, end=' ')\n",
    "    test[f'pred{i}'] = pd.read_csv(f'../old_submission/{name}.csv')['meter_reading']\n",
    "    i += 1"
   ]
  },
  {
   "cell_type": "code",
   "execution_count": 9,
   "metadata": {
    "ExecuteTime": {
     "end_time": "2020-01-15T08:01:00.294415Z",
     "start_time": "2020-01-15T08:01:00.211945Z"
    }
   },
   "outputs": [],
   "source": [
    "test[f'pred{i}'] = np.exp(1) - 1\n",
    "i += 1"
   ]
  },
  {
   "cell_type": "code",
   "execution_count": 10,
   "metadata": {
    "ExecuteTime": {
     "end_time": "2020-01-15T08:01:16.895809Z",
     "start_time": "2020-01-15T08:01:00.297902Z"
    }
   },
   "outputs": [
    {
     "name": "stdout",
     "output_type": "stream",
     "text": [
      "7\n"
     ]
    }
   ],
   "source": [
    "test = test.merge(leaked_df, on=['building_id', 'meter', 'timestamp'], how='left')\n",
    "N = test.columns.str.startswith('pred').sum()\n",
    "print(N)"
   ]
  },
  {
   "cell_type": "code",
   "execution_count": 11,
   "metadata": {
    "ExecuteTime": {
     "end_time": "2020-01-15T08:01:22.698149Z",
     "start_time": "2020-01-15T08:01:16.898294Z"
    }
   },
   "outputs": [],
   "source": [
    "test_sub = test.copy()\n",
    "test = test[~test['leaked_meter_reading'].isnull()]\n",
    "test2017 = test.query('timestamp<20180101')\n",
    "test2018 = test.query('20180101<=timestamp')"
   ]
  },
  {
   "cell_type": "code",
   "execution_count": 12,
   "metadata": {
    "ExecuteTime": {
     "end_time": "2020-01-15T08:01:27.884662Z",
     "start_time": "2020-01-15T08:01:22.701176Z"
    },
    "code_folding": [],
    "scrolled": true
   },
   "outputs": [
    {
     "name": "stdout",
     "output_type": "stream",
     "text": [
      "1 1.0545973830481492\n",
      "2 1.0554909788652922\n",
      "3 1.056746048041055\n",
      "4 1.0581681178741322\n",
      "5 1.083063385436808\n",
      "6 1.0839501550420507\n",
      "7 3.695562019317608\n",
      "\n",
      "1 0.9138296903345354\n",
      "2 0.9097899973322123\n",
      "3 0.9097473660053049\n",
      "4 0.9245811185333753\n",
      "5 0.9460219466177832\n",
      "6 0.9613417629834499\n",
      "7 3.7055726492739844\n",
      "\n",
      "1 0.986605695739567\n",
      "2 0.9852117321248618\n",
      "3 0.985863335918557\n",
      "4 0.9935070157080577\n",
      "5 1.0167358027916829\n",
      "6 1.024376067314449\n",
      "7 3.7005793672849165\n"
     ]
    }
   ],
   "source": [
    "for i in range(1,N+1):\n",
    "    print(i, np.sqrt(mean_squared_error(np.log1p(test2018['leaked_meter_reading']), np.log1p(test2018[f'pred{i}']))))\n",
    "\n",
    "print()\n",
    "\n",
    "for i in range(1,N+1):\n",
    "    print(i, np.sqrt(mean_squared_error(np.log1p(test2017['leaked_meter_reading']), np.log1p(test2017[f'pred{i}']))))\n",
    "\n",
    "print()\n",
    "    \n",
    "for i in range(1,N+1):\n",
    "    print(i, np.sqrt(mean_squared_error(np.log1p(test['leaked_meter_reading']), np.log1p(test[f'pred{i}']))))\n"
   ]
  },
  {
   "cell_type": "code",
   "execution_count": 13,
   "metadata": {
    "ExecuteTime": {
     "end_time": "2020-01-15T08:01:27.889542Z",
     "start_time": "2020-01-15T08:01:27.887064Z"
    },
    "code_folding": [],
    "scrolled": true
   },
   "outputs": [],
   "source": [
    "# sid = 1\n",
    "# for i in range(1,N+1):\n",
    "#     print(i, np.sqrt(mean_squared_error(np.log1p(test2018.query(f'meter==0 & site_id=={sid}')['leaked_meter_reading']), \n",
    "#                                         np.log1p(test2018.query(f'meter==0 & site_id=={sid}')[f'pred{i}']))))\n",
    "\n",
    "# print()\n",
    "\n",
    "# for i in range(1,N+1):\n",
    "#     print(i, np.sqrt(mean_squared_error(np.log1p(test2017.query(f'meter==0 & site_id=={sid}')['leaked_meter_reading']), \n",
    "#                                         np.log1p(test2017.query(f'meter==0 & site_id=={sid}')[f'pred{i}']))))\n",
    "       "
   ]
  },
  {
   "cell_type": "code",
   "execution_count": 14,
   "metadata": {
    "ExecuteTime": {
     "end_time": "2020-01-15T08:01:27.991626Z",
     "start_time": "2020-01-15T08:01:27.890753Z"
    }
   },
   "outputs": [],
   "source": [
    "def preproceeding(submission, N):\n",
    "    submission.loc[:,'pred1':'leaked_meter_reading'] = np.log1p(submission.loc[:,'pred1':'leaked_meter_reading'])\n",
    "    g = submission.groupby('meter')\n",
    "    sub_sub = [dict(), dict(), dict(), dict()]\n",
    "    leak_sub = [dict(), dict(), dict(), dict()]\n",
    "    leak_leak = [0,0,0,0]\n",
    "    \n",
    "    for meter in [3,2,1,0]:\n",
    "        for i in tqdm(range(1,N+1)):\n",
    "            leak_sub[meter][i] = sum(-2 * g.get_group(meter)['leaked_meter_reading'] * g.get_group(meter)[f'pred{i}'])\n",
    "            for j in range(1,N+1):\n",
    "                if i > j: \n",
    "                    sub_sub[meter][(i,j)] = sub_sub[meter][(j,i)]\n",
    "                else:\n",
    "                    sub_sub[meter][(i,j)] = sum(g.get_group(meter)[f'pred{i}'] * g.get_group(meter)[f'pred{j}'])\n",
    "        \n",
    "        leak_leak[meter] = (sum(g.get_group(meter)['leaked_meter_reading'] ** 2))\n",
    "    \n",
    "    return sub_sub, leak_sub, leak_leak"
   ]
  },
  {
   "cell_type": "code",
   "execution_count": 15,
   "metadata": {
    "ExecuteTime": {
     "end_time": "2020-01-15T08:01:28.057461Z",
     "start_time": "2020-01-15T08:01:27.996502Z"
    }
   },
   "outputs": [],
   "source": [
    "def optimization(meter, sub_sub, leak_sub, leak_leak, length, W):\n",
    "    \n",
    "#     global count_itr\n",
    "#     if count_itr%1000 == 0: print(count_itr, end=' ')\n",
    "#     count_itr += 1\n",
    "    \n",
    "    loss_total = 0\n",
    "\n",
    "    for i, a in enumerate(W, 1):\n",
    "        for j, b in enumerate(W, 1):\n",
    "            loss_total += a * b * sub_sub[meter][(i, j)]\n",
    "\n",
    "    for i, a in enumerate(W, 1):\n",
    "        loss_total += leak_sub[meter][i] * a\n",
    "\n",
    "    loss_total += leak_leak[meter]\n",
    "    \n",
    "    return np.sqrt(loss_total / length)"
   ]
  },
  {
   "cell_type": "code",
   "execution_count": 16,
   "metadata": {
    "ExecuteTime": {
     "end_time": "2020-01-15T08:01:28.141966Z",
     "start_time": "2020-01-15T08:01:28.060071Z"
    }
   },
   "outputs": [],
   "source": [
    "def make_ensemble_weight(focus_df, N):\n",
    "\n",
    "    sub_sub, leak_sub, leak_leak = preproceeding(focus_df.copy(), N)\n",
    "\n",
    "\n",
    "    np.random.seed(1)\n",
    "    score = [list(), list(), list(), list()]\n",
    "    weight = [list(), list(), list(), list()]\n",
    "\n",
    "    for meter in [0,1,2,3]:\n",
    "        f = partial(optimization, meter, sub_sub, leak_sub, leak_leak, len(focus_df.query(f'meter=={meter}')))\n",
    "        for i in tqdm(range(1000000)):\n",
    "            W = np.random.rand(N)\n",
    "\n",
    "            to_zero = np.arange(N)\n",
    "            np.random.shuffle(to_zero)\n",
    "\n",
    "            W[to_zero[:np.random.randint(N)]] = 0\n",
    "            W /= W.sum()\n",
    "            W *= np.random.rand() * 0.3 + 0.8\n",
    "            score[meter].append(f(W))\n",
    "            weight[meter].append(W)\n",
    "\n",
    "        score[meter] = np.array(score[meter])\n",
    "        weight[meter] = np.array(weight[meter])\n",
    "    \n",
    "    return weight, score"
   ]
  },
  {
   "cell_type": "code",
   "execution_count": 17,
   "metadata": {
    "ExecuteTime": {
     "end_time": "2020-01-15T08:06:45.145334Z",
     "start_time": "2020-01-15T08:01:28.144945Z"
    }
   },
   "outputs": [
    {
     "name": "stderr",
     "output_type": "stream",
     "text": [
      "100%|██████████| 7/7 [00:03<00:00,  2.01it/s]\n",
      "100%|██████████| 7/7 [00:02<00:00,  3.15it/s]\n",
      "100%|██████████| 7/7 [00:08<00:00,  1.24s/it]\n",
      "100%|██████████| 7/7 [00:17<00:00,  2.43s/it]\n",
      "100%|██████████| 1000000/1000000 [01:15<00:00, 13214.95it/s]\n",
      "100%|██████████| 1000000/1000000 [01:09<00:00, 14345.46it/s]\n",
      "100%|██████████| 1000000/1000000 [01:06<00:00, 15055.99it/s]\n",
      "100%|██████████| 1000000/1000000 [01:09<00:00, 14482.16it/s]\n"
     ]
    }
   ],
   "source": [
    "weight2017, score2017 = make_ensemble_weight(test2017, N)"
   ]
  },
  {
   "cell_type": "code",
   "execution_count": 18,
   "metadata": {
    "ExecuteTime": {
     "end_time": "2020-01-15T08:12:12.571322Z",
     "start_time": "2020-01-15T08:06:45.149018Z"
    }
   },
   "outputs": [
    {
     "name": "stderr",
     "output_type": "stream",
     "text": [
      "100%|██████████| 7/7 [00:03<00:00,  2.18it/s]\n",
      "100%|██████████| 7/7 [00:02<00:00,  3.40it/s]\n",
      "100%|██████████| 7/7 [00:09<00:00,  1.29s/it]\n",
      "100%|██████████| 7/7 [00:17<00:00,  2.44s/it]\n",
      "100%|██████████| 1000000/1000000 [01:19<00:00, 12598.46it/s]\n",
      "100%|██████████| 1000000/1000000 [01:13<00:00, 13544.42it/s]\n",
      "100%|██████████| 1000000/1000000 [01:06<00:00, 15123.47it/s]\n",
      "100%|██████████| 1000000/1000000 [01:12<00:00, 13877.79it/s]\n"
     ]
    }
   ],
   "source": [
    "weight2018, score2018 = make_ensemble_weight(test2018, N)"
   ]
  },
  {
   "cell_type": "code",
   "execution_count": 19,
   "metadata": {
    "ExecuteTime": {
     "end_time": "2020-01-15T08:12:12.596528Z",
     "start_time": "2020-01-15T08:12:12.573369Z"
    }
   },
   "outputs": [
    {
     "name": "stdout",
     "output_type": "stream",
     "text": [
      "[0.12026147 0.         0.5505669  0.         0.323073   0.\n",
      " 0.        ]\n",
      "\n",
      "[0.         0.         0.55266118 0.         0.         0.39306029\n",
      " 0.09019167]\n",
      "\n",
      "[0.         0.         0.84964604 0.         0.14769226 0.\n",
      " 0.        ]\n",
      "\n",
      "[0.18689671 0.41500583 0.         0.         0.3644072  0.\n",
      " 0.        ]\n",
      "\n"
     ]
    }
   ],
   "source": [
    "for meter in [0,1,2,3]:\n",
    "#     for i in range(N):\n",
    "    print(weight2017[meter][score2017[meter].argmin()])\n",
    "    print()\n",
    "\n",
    "# for meter in [0,1,2,3]:\n",
    "#     print(score2017[meter].min())\n",
    "#     print(weight2017[meter][score2017[meter].argmin()].sum())\n",
    "#     print()"
   ]
  },
  {
   "cell_type": "code",
   "execution_count": 20,
   "metadata": {
    "ExecuteTime": {
     "end_time": "2020-01-15T08:12:12.663102Z",
     "start_time": "2020-01-15T08:12:12.598187Z"
    }
   },
   "outputs": [
    {
     "name": "stdout",
     "output_type": "stream",
     "text": [
      "[0.41718076 0.         0.2852213  0.         0.27707631 0.\n",
      " 0.        ]\n",
      "\n",
      "[0.         0.         0.34437608 0.13223363 0.         0.43411985\n",
      " 0.1821063 ]\n",
      "\n",
      "[0.         0.         0.31167629 0.13261928 0.2036462  0.3573865\n",
      " 0.        ]\n",
      "\n",
      "[0.         0.48347138 0.         0.         0.30641592 0.14341469\n",
      " 0.        ]\n",
      "\n"
     ]
    }
   ],
   "source": [
    "for meter in [0,1,2,3]:\n",
    "#     for i in range(N):\n",
    "    print(weight2018[meter][score2018[meter].argmin()])\n",
    "    print()\n",
    "\n",
    "# for meter in [0,1,2,3]:\n",
    "#     print(score2018[meter].min())\n",
    "#     print(weight2018[meter][score2018[meter].argmin()].sum())\n",
    "#     print()"
   ]
  },
  {
   "cell_type": "code",
   "execution_count": 21,
   "metadata": {
    "ExecuteTime": {
     "end_time": "2020-01-15T08:12:12.713071Z",
     "start_time": "2020-01-15T08:12:12.664852Z"
    }
   },
   "outputs": [],
   "source": [
    "def new_pred(test, weight, score, N):\n",
    "    pred_new = list()\n",
    "    for meter in [0,1,2,3]:\n",
    "        test_m = test.query(f'meter=={meter}')\n",
    "        ensemble_m = sum([np.log1p(test_m[f'pred{i+1}']) * weight[meter][score[meter].argmin()][i] for i in range(N)])\n",
    "        pred_new.append(ensemble_m)\n",
    "\n",
    "    pred_new = pd.concat(pred_new).sort_index()\n",
    "    return np.expm1(pred_new)"
   ]
  },
  {
   "cell_type": "code",
   "execution_count": 22,
   "metadata": {
    "ExecuteTime": {
     "end_time": "2020-01-15T08:12:28.838780Z",
     "start_time": "2020-01-15T08:12:12.715276Z"
    }
   },
   "outputs": [],
   "source": [
    "ensembled_pred2017 = new_pred(test_sub.query('timestamp<20180101'), weight2017, score2017, N)\n",
    "ensembled_pred2018 = new_pred(test_sub.query('20180101<=timestamp'), weight2018, score2018, N)"
   ]
  },
  {
   "cell_type": "code",
   "execution_count": 23,
   "metadata": {
    "ExecuteTime": {
     "end_time": "2020-01-15T08:12:32.101264Z",
     "start_time": "2020-01-15T08:12:28.842735Z"
    }
   },
   "outputs": [],
   "source": [
    "ensembled_pred = pd.concat([ensembled_pred2017, ensembled_pred2018], axis=0).sort_index()"
   ]
  },
  {
   "cell_type": "code",
   "execution_count": 24,
   "metadata": {
    "ExecuteTime": {
     "end_time": "2020-01-15T08:12:37.876027Z",
     "start_time": "2020-01-15T08:12:32.104616Z"
    }
   },
   "outputs": [
    {
     "name": "stdout",
     "output_type": "stream",
     "text": [
      "1.0295527690956277\n",
      "0.8923852193404604\n",
      "0.9632950742127016\n"
     ]
    }
   ],
   "source": [
    "print(np.sqrt(mean_squared_error(np.log1p(test2018['leaked_meter_reading']), np.log1p(ensembled_pred.loc[test2018.index]))))\n",
    "print(np.sqrt(mean_squared_error(np.log1p(test2017['leaked_meter_reading']), np.log1p(ensembled_pred.loc[test2017.index]))))\n",
    "print(np.sqrt(mean_squared_error(np.log1p(test['leaked_meter_reading']), np.log1p(ensembled_pred.loc[test.index]))))"
   ]
  },
  {
   "cell_type": "code",
   "execution_count": 25,
   "metadata": {
    "ExecuteTime": {
     "end_time": "2020-01-15T08:12:43.114041Z",
     "start_time": "2020-01-15T08:12:37.879418Z"
    }
   },
   "outputs": [],
   "source": [
    "new_submission = pd.read_csv('../input/sample_submission.csv')"
   ]
  },
  {
   "cell_type": "code",
   "execution_count": 26,
   "metadata": {
    "ExecuteTime": {
     "end_time": "2020-01-15T08:12:43.404886Z",
     "start_time": "2020-01-15T08:12:43.115930Z"
    }
   },
   "outputs": [],
   "source": [
    "new_submission['meter_reading'] = ensembled_pred.values\n",
    "#                                       submission1['meter_reading'] * arr[arr[:,0].argmin()][1][0] \\\n",
    "#                                     + submission2['meter_reading'] * arr[arr[:,0].argmin()][1][1] \\\n",
    "#                                     + submission3['meter_reading'] * arr[arr[:,0].argmin()][1][2]"
   ]
  },
  {
   "cell_type": "code",
   "execution_count": 27,
   "metadata": {
    "ExecuteTime": {
     "end_time": "2020-01-15T08:14:27.503159Z",
     "start_time": "2020-01-15T08:12:43.406702Z"
    }
   },
   "outputs": [],
   "source": [
    "new_submission.to_csv('../output/submission_my_leak_validation.csv', index=False)"
   ]
  },
  {
   "cell_type": "code",
   "execution_count": 27,
   "metadata": {
    "ExecuteTime": {
     "end_time": "2020-01-15T05:12:08.685380Z",
     "start_time": "2020-01-15T05:12:08.650319Z"
    },
    "scrolled": true
   },
   "outputs": [
    {
     "data": {
      "text/html": [
       "<div>\n",
       "<style scoped>\n",
       "    .dataframe tbody tr th:only-of-type {\n",
       "        vertical-align: middle;\n",
       "    }\n",
       "\n",
       "    .dataframe tbody tr th {\n",
       "        vertical-align: top;\n",
       "    }\n",
       "\n",
       "    .dataframe thead th {\n",
       "        text-align: right;\n",
       "    }\n",
       "</style>\n",
       "<table border=\"1\" class=\"dataframe\">\n",
       "  <thead>\n",
       "    <tr style=\"text-align: right;\">\n",
       "      <th></th>\n",
       "      <th>row_id</th>\n",
       "      <th>meter_reading</th>\n",
       "    </tr>\n",
       "  </thead>\n",
       "  <tbody>\n",
       "    <tr>\n",
       "      <th>0</th>\n",
       "      <td>0</td>\n",
       "      <td>137.404518</td>\n",
       "    </tr>\n",
       "    <tr>\n",
       "      <th>1</th>\n",
       "      <td>1</td>\n",
       "      <td>64.776771</td>\n",
       "    </tr>\n",
       "    <tr>\n",
       "      <th>2</th>\n",
       "      <td>2</td>\n",
       "      <td>5.452883</td>\n",
       "    </tr>\n",
       "    <tr>\n",
       "      <th>3</th>\n",
       "      <td>3</td>\n",
       "      <td>231.476378</td>\n",
       "    </tr>\n",
       "    <tr>\n",
       "      <th>4</th>\n",
       "      <td>4</td>\n",
       "      <td>1073.066650</td>\n",
       "    </tr>\n",
       "    <tr>\n",
       "      <th>5</th>\n",
       "      <td>5</td>\n",
       "      <td>8.973845</td>\n",
       "    </tr>\n",
       "    <tr>\n",
       "      <th>6</th>\n",
       "      <td>6</td>\n",
       "      <td>99.896591</td>\n",
       "    </tr>\n",
       "    <tr>\n",
       "      <th>7</th>\n",
       "      <td>7</td>\n",
       "      <td>291.478305</td>\n",
       "    </tr>\n",
       "    <tr>\n",
       "      <th>8</th>\n",
       "      <td>8</td>\n",
       "      <td>625.875907</td>\n",
       "    </tr>\n",
       "    <tr>\n",
       "      <th>9</th>\n",
       "      <td>9</td>\n",
       "      <td>307.480913</td>\n",
       "    </tr>\n",
       "    <tr>\n",
       "      <th>10</th>\n",
       "      <td>10</td>\n",
       "      <td>49.544091</td>\n",
       "    </tr>\n",
       "    <tr>\n",
       "      <th>11</th>\n",
       "      <td>11</td>\n",
       "      <td>5.784817</td>\n",
       "    </tr>\n",
       "    <tr>\n",
       "      <th>12</th>\n",
       "      <td>12</td>\n",
       "      <td>1030.858616</td>\n",
       "    </tr>\n",
       "    <tr>\n",
       "      <th>13</th>\n",
       "      <td>13</td>\n",
       "      <td>335.636248</td>\n",
       "    </tr>\n",
       "    <tr>\n",
       "      <th>14</th>\n",
       "      <td>14</td>\n",
       "      <td>195.665957</td>\n",
       "    </tr>\n",
       "    <tr>\n",
       "      <th>15</th>\n",
       "      <td>15</td>\n",
       "      <td>214.759176</td>\n",
       "    </tr>\n",
       "    <tr>\n",
       "      <th>16</th>\n",
       "      <td>16</td>\n",
       "      <td>32.425616</td>\n",
       "    </tr>\n",
       "    <tr>\n",
       "      <th>17</th>\n",
       "      <td>17</td>\n",
       "      <td>240.068060</td>\n",
       "    </tr>\n",
       "    <tr>\n",
       "      <th>18</th>\n",
       "      <td>18</td>\n",
       "      <td>454.846431</td>\n",
       "    </tr>\n",
       "    <tr>\n",
       "      <th>19</th>\n",
       "      <td>19</td>\n",
       "      <td>159.386015</td>\n",
       "    </tr>\n",
       "    <tr>\n",
       "      <th>20</th>\n",
       "      <td>20</td>\n",
       "      <td>461.453998</td>\n",
       "    </tr>\n",
       "    <tr>\n",
       "      <th>21</th>\n",
       "      <td>21</td>\n",
       "      <td>864.912730</td>\n",
       "    </tr>\n",
       "    <tr>\n",
       "      <th>22</th>\n",
       "      <td>22</td>\n",
       "      <td>83.470892</td>\n",
       "    </tr>\n",
       "    <tr>\n",
       "      <th>23</th>\n",
       "      <td>23</td>\n",
       "      <td>1403.057163</td>\n",
       "    </tr>\n",
       "    <tr>\n",
       "      <th>24</th>\n",
       "      <td>24</td>\n",
       "      <td>134.005259</td>\n",
       "    </tr>\n",
       "    <tr>\n",
       "      <th>25</th>\n",
       "      <td>25</td>\n",
       "      <td>309.776531</td>\n",
       "    </tr>\n",
       "    <tr>\n",
       "      <th>26</th>\n",
       "      <td>26</td>\n",
       "      <td>34.789433</td>\n",
       "    </tr>\n",
       "    <tr>\n",
       "      <th>27</th>\n",
       "      <td>27</td>\n",
       "      <td>19.507593</td>\n",
       "    </tr>\n",
       "    <tr>\n",
       "      <th>28</th>\n",
       "      <td>28</td>\n",
       "      <td>599.992070</td>\n",
       "    </tr>\n",
       "    <tr>\n",
       "      <th>29</th>\n",
       "      <td>29</td>\n",
       "      <td>512.106497</td>\n",
       "    </tr>\n",
       "    <tr>\n",
       "      <th>...</th>\n",
       "      <td>...</td>\n",
       "      <td>...</td>\n",
       "    </tr>\n",
       "    <tr>\n",
       "      <th>41697570</th>\n",
       "      <td>41697570</td>\n",
       "      <td>1594.199985</td>\n",
       "    </tr>\n",
       "    <tr>\n",
       "      <th>41697571</th>\n",
       "      <td>41697571</td>\n",
       "      <td>40.844984</td>\n",
       "    </tr>\n",
       "    <tr>\n",
       "      <th>41697572</th>\n",
       "      <td>41697572</td>\n",
       "      <td>30.542498</td>\n",
       "    </tr>\n",
       "    <tr>\n",
       "      <th>41697573</th>\n",
       "      <td>41697573</td>\n",
       "      <td>355.970286</td>\n",
       "    </tr>\n",
       "    <tr>\n",
       "      <th>41697574</th>\n",
       "      <td>41697574</td>\n",
       "      <td>158.198874</td>\n",
       "    </tr>\n",
       "    <tr>\n",
       "      <th>41697575</th>\n",
       "      <td>41697575</td>\n",
       "      <td>113.390164</td>\n",
       "    </tr>\n",
       "    <tr>\n",
       "      <th>41697576</th>\n",
       "      <td>41697576</td>\n",
       "      <td>188.288018</td>\n",
       "    </tr>\n",
       "    <tr>\n",
       "      <th>41697577</th>\n",
       "      <td>41697577</td>\n",
       "      <td>405.999175</td>\n",
       "    </tr>\n",
       "    <tr>\n",
       "      <th>41697578</th>\n",
       "      <td>41697578</td>\n",
       "      <td>36.700054</td>\n",
       "    </tr>\n",
       "    <tr>\n",
       "      <th>41697579</th>\n",
       "      <td>41697579</td>\n",
       "      <td>417.292183</td>\n",
       "    </tr>\n",
       "    <tr>\n",
       "      <th>41697580</th>\n",
       "      <td>41697580</td>\n",
       "      <td>68.313510</td>\n",
       "    </tr>\n",
       "    <tr>\n",
       "      <th>41697581</th>\n",
       "      <td>41697581</td>\n",
       "      <td>174.722387</td>\n",
       "    </tr>\n",
       "    <tr>\n",
       "      <th>41697582</th>\n",
       "      <td>41697582</td>\n",
       "      <td>5.758137</td>\n",
       "    </tr>\n",
       "    <tr>\n",
       "      <th>41697583</th>\n",
       "      <td>41697583</td>\n",
       "      <td>14.402816</td>\n",
       "    </tr>\n",
       "    <tr>\n",
       "      <th>41697584</th>\n",
       "      <td>41697584</td>\n",
       "      <td>891.727535</td>\n",
       "    </tr>\n",
       "    <tr>\n",
       "      <th>41697585</th>\n",
       "      <td>41697585</td>\n",
       "      <td>427.434549</td>\n",
       "    </tr>\n",
       "    <tr>\n",
       "      <th>41697586</th>\n",
       "      <td>41697586</td>\n",
       "      <td>496.388667</td>\n",
       "    </tr>\n",
       "    <tr>\n",
       "      <th>41697587</th>\n",
       "      <td>41697587</td>\n",
       "      <td>169.698960</td>\n",
       "    </tr>\n",
       "    <tr>\n",
       "      <th>41697588</th>\n",
       "      <td>41697588</td>\n",
       "      <td>367.566953</td>\n",
       "    </tr>\n",
       "    <tr>\n",
       "      <th>41697589</th>\n",
       "      <td>41697589</td>\n",
       "      <td>173.981177</td>\n",
       "    </tr>\n",
       "    <tr>\n",
       "      <th>41697590</th>\n",
       "      <td>41697590</td>\n",
       "      <td>208.395741</td>\n",
       "    </tr>\n",
       "    <tr>\n",
       "      <th>41697591</th>\n",
       "      <td>41697591</td>\n",
       "      <td>206.805701</td>\n",
       "    </tr>\n",
       "    <tr>\n",
       "      <th>41697592</th>\n",
       "      <td>41697592</td>\n",
       "      <td>76.059715</td>\n",
       "    </tr>\n",
       "    <tr>\n",
       "      <th>41697593</th>\n",
       "      <td>41697593</td>\n",
       "      <td>2.297743</td>\n",
       "    </tr>\n",
       "    <tr>\n",
       "      <th>41697594</th>\n",
       "      <td>41697594</td>\n",
       "      <td>79.404861</td>\n",
       "    </tr>\n",
       "    <tr>\n",
       "      <th>41697595</th>\n",
       "      <td>41697595</td>\n",
       "      <td>6.949004</td>\n",
       "    </tr>\n",
       "    <tr>\n",
       "      <th>41697596</th>\n",
       "      <td>41697596</td>\n",
       "      <td>5.143688</td>\n",
       "    </tr>\n",
       "    <tr>\n",
       "      <th>41697597</th>\n",
       "      <td>41697597</td>\n",
       "      <td>6.276116</td>\n",
       "    </tr>\n",
       "    <tr>\n",
       "      <th>41697598</th>\n",
       "      <td>41697598</td>\n",
       "      <td>129.247551</td>\n",
       "    </tr>\n",
       "    <tr>\n",
       "      <th>41697599</th>\n",
       "      <td>41697599</td>\n",
       "      <td>5.898019</td>\n",
       "    </tr>\n",
       "  </tbody>\n",
       "</table>\n",
       "<p>41697600 rows × 2 columns</p>\n",
       "</div>"
      ],
      "text/plain": [
       "            row_id  meter_reading\n",
       "0                0     137.404518\n",
       "1                1      64.776771\n",
       "2                2       5.452883\n",
       "3                3     231.476378\n",
       "4                4    1073.066650\n",
       "5                5       8.973845\n",
       "6                6      99.896591\n",
       "7                7     291.478305\n",
       "8                8     625.875907\n",
       "9                9     307.480913\n",
       "10              10      49.544091\n",
       "11              11       5.784817\n",
       "12              12    1030.858616\n",
       "13              13     335.636248\n",
       "14              14     195.665957\n",
       "15              15     214.759176\n",
       "16              16      32.425616\n",
       "17              17     240.068060\n",
       "18              18     454.846431\n",
       "19              19     159.386015\n",
       "20              20     461.453998\n",
       "21              21     864.912730\n",
       "22              22      83.470892\n",
       "23              23    1403.057163\n",
       "24              24     134.005259\n",
       "25              25     309.776531\n",
       "26              26      34.789433\n",
       "27              27      19.507593\n",
       "28              28     599.992070\n",
       "29              29     512.106497\n",
       "...            ...            ...\n",
       "41697570  41697570    1594.199985\n",
       "41697571  41697571      40.844984\n",
       "41697572  41697572      30.542498\n",
       "41697573  41697573     355.970286\n",
       "41697574  41697574     158.198874\n",
       "41697575  41697575     113.390164\n",
       "41697576  41697576     188.288018\n",
       "41697577  41697577     405.999175\n",
       "41697578  41697578      36.700054\n",
       "41697579  41697579     417.292183\n",
       "41697580  41697580      68.313510\n",
       "41697581  41697581     174.722387\n",
       "41697582  41697582       5.758137\n",
       "41697583  41697583      14.402816\n",
       "41697584  41697584     891.727535\n",
       "41697585  41697585     427.434549\n",
       "41697586  41697586     496.388667\n",
       "41697587  41697587     169.698960\n",
       "41697588  41697588     367.566953\n",
       "41697589  41697589     173.981177\n",
       "41697590  41697590     208.395741\n",
       "41697591  41697591     206.805701\n",
       "41697592  41697592      76.059715\n",
       "41697593  41697593       2.297743\n",
       "41697594  41697594      79.404861\n",
       "41697595  41697595       6.949004\n",
       "41697596  41697596       5.143688\n",
       "41697597  41697597       6.276116\n",
       "41697598  41697598     129.247551\n",
       "41697599  41697599       5.898019\n",
       "\n",
       "[41697600 rows x 2 columns]"
      ]
     },
     "execution_count": 27,
     "metadata": {},
     "output_type": "execute_result"
    }
   ],
   "source": [
    "new_submission"
   ]
  },
  {
   "cell_type": "code",
   "execution_count": null,
   "metadata": {},
   "outputs": [],
   "source": []
  }
 ],
 "metadata": {
  "kernelspec": {
   "display_name": "Python 3",
   "language": "python",
   "name": "python3"
  },
  "language_info": {
   "codemirror_mode": {
    "name": "ipython",
    "version": 3
   },
   "file_extension": ".py",
   "mimetype": "text/x-python",
   "name": "python",
   "nbconvert_exporter": "python",
   "pygments_lexer": "ipython3",
   "version": "3.6.8"
  }
 },
 "nbformat": 4,
 "nbformat_minor": 2
}
